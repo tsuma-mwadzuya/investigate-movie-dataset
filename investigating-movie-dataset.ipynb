{
 "cells": [
  {
   "cell_type": "markdown",
   "metadata": {},
   "source": [
    "# Project: Analysis of Movies Dataset\n",
    "\n",
    "## Table of Contents\n",
    "<ul>\n",
    "<li><a href=\"#intro\">Introduction</a></li>\n",
    "<li><a href=\"#wrangling\">Data Wrangling</a></li>\n",
    "<li><a href=\"#eda\">Exploratory Data Analysis</a></li>\n",
    "<li><a href=\"#conclusions\">Conclusions</a></li>\n",
    "<li><a href=\"#references\">References</a></li>\n",
    "</ul>"
   ]
  },
  {
   "cell_type": "markdown",
   "metadata": {},
   "source": [
    "<a id='intro'></a>\n",
    "## Introduction\n",
    "\n",
    "> **Tip**: This project provides an analysis of data collected from a movie database. We will specifically look at trends in the movies that had low production cost and how they differed from those that had medium and high production cost. We will also rate how the movies did (as Bad, Good or Great) based on the average votes (vote_average) and analyse trends and interelation between these categorical variables and other independent variables.\n",
    "\n",
    "> **Note**: This analysis seeks to answer two question:\n",
    "    1. Which budget category (budget_type) makes the highest profits? Also explore relations with other variables\n",
    "    2. Which director has the most movies between 2010 and 2015? How do they compare to the perfomance of director with the most movies in the dataset ?\n",
    "    \n",
    "    \n",
    "Let us first import the necessary packages for analysis and visualizations.\n"
   ]
  },
  {
   "cell_type": "code",
   "execution_count": 96,
   "metadata": {},
   "outputs": [],
   "source": [
    "#importing the necessary packages\n",
    "\n",
    "import numpy as np\n",
    "import pandas as pd\n",
    "import matplotlib.pyplot as plt\n",
    "import seaborn as sns\n",
    "sns.set_style('darkgrid')\n",
    "%matplotlib inline\n"
   ]
  },
  {
   "cell_type": "markdown",
   "metadata": {},
   "source": [
    "<a id='wrangling'></a>\n",
    "## Data Wrangling\n",
    "\n",
    "> **Note**: In this section, we load in the data,quickly assess it, checking for cleanliness, and then trim and clean the dataset for analysis. \n",
    "\n",
    "### General Properties\n",
    "\n",
    "Let us then load the data and take a qucik glance to asses it.\n",
    "\n",
    "We will check the dataset characteristics, datatype formats, duplicates and missing values. We will then look at the summary statistics to familiarize with the dataset."
   ]
  },
  {
   "cell_type": "code",
   "execution_count": 97,
   "metadata": {},
   "outputs": [
    {
     "data": {
      "text/html": [
       "<div>\n",
       "<style scoped>\n",
       "    .dataframe tbody tr th:only-of-type {\n",
       "        vertical-align: middle;\n",
       "    }\n",
       "\n",
       "    .dataframe tbody tr th {\n",
       "        vertical-align: top;\n",
       "    }\n",
       "\n",
       "    .dataframe thead th {\n",
       "        text-align: right;\n",
       "    }\n",
       "</style>\n",
       "<table border=\"1\" class=\"dataframe\">\n",
       "  <thead>\n",
       "    <tr style=\"text-align: right;\">\n",
       "      <th></th>\n",
       "      <th>id</th>\n",
       "      <th>imdb_id</th>\n",
       "      <th>popularity</th>\n",
       "      <th>budget</th>\n",
       "      <th>revenue</th>\n",
       "      <th>original_title</th>\n",
       "      <th>cast</th>\n",
       "      <th>homepage</th>\n",
       "      <th>director</th>\n",
       "      <th>tagline</th>\n",
       "      <th>...</th>\n",
       "      <th>overview</th>\n",
       "      <th>runtime</th>\n",
       "      <th>genres</th>\n",
       "      <th>production_companies</th>\n",
       "      <th>release_date</th>\n",
       "      <th>vote_count</th>\n",
       "      <th>vote_average</th>\n",
       "      <th>release_year</th>\n",
       "      <th>budget_adj</th>\n",
       "      <th>revenue_adj</th>\n",
       "    </tr>\n",
       "  </thead>\n",
       "  <tbody>\n",
       "    <tr>\n",
       "      <th>0</th>\n",
       "      <td>135397</td>\n",
       "      <td>tt0369610</td>\n",
       "      <td>32.985763</td>\n",
       "      <td>150000000</td>\n",
       "      <td>1513528810</td>\n",
       "      <td>Jurassic World</td>\n",
       "      <td>Chris Pratt|Bryce Dallas Howard|Irrfan Khan|Vi...</td>\n",
       "      <td>http://www.jurassicworld.com/</td>\n",
       "      <td>Colin Trevorrow</td>\n",
       "      <td>The park is open.</td>\n",
       "      <td>...</td>\n",
       "      <td>Twenty-two years after the events of Jurassic ...</td>\n",
       "      <td>124</td>\n",
       "      <td>Action|Adventure|Science Fiction|Thriller</td>\n",
       "      <td>Universal Studios|Amblin Entertainment|Legenda...</td>\n",
       "      <td>6/9/15</td>\n",
       "      <td>5562</td>\n",
       "      <td>6.5</td>\n",
       "      <td>2015</td>\n",
       "      <td>1.379999e+08</td>\n",
       "      <td>1.392446e+09</td>\n",
       "    </tr>\n",
       "    <tr>\n",
       "      <th>1</th>\n",
       "      <td>76341</td>\n",
       "      <td>tt1392190</td>\n",
       "      <td>28.419936</td>\n",
       "      <td>150000000</td>\n",
       "      <td>378436354</td>\n",
       "      <td>Mad Max: Fury Road</td>\n",
       "      <td>Tom Hardy|Charlize Theron|Hugh Keays-Byrne|Nic...</td>\n",
       "      <td>http://www.madmaxmovie.com/</td>\n",
       "      <td>George Miller</td>\n",
       "      <td>What a Lovely Day.</td>\n",
       "      <td>...</td>\n",
       "      <td>An apocalyptic story set in the furthest reach...</td>\n",
       "      <td>120</td>\n",
       "      <td>Action|Adventure|Science Fiction|Thriller</td>\n",
       "      <td>Village Roadshow Pictures|Kennedy Miller Produ...</td>\n",
       "      <td>5/13/15</td>\n",
       "      <td>6185</td>\n",
       "      <td>7.1</td>\n",
       "      <td>2015</td>\n",
       "      <td>1.379999e+08</td>\n",
       "      <td>3.481613e+08</td>\n",
       "    </tr>\n",
       "    <tr>\n",
       "      <th>2</th>\n",
       "      <td>262500</td>\n",
       "      <td>tt2908446</td>\n",
       "      <td>13.112507</td>\n",
       "      <td>110000000</td>\n",
       "      <td>295238201</td>\n",
       "      <td>Insurgent</td>\n",
       "      <td>Shailene Woodley|Theo James|Kate Winslet|Ansel...</td>\n",
       "      <td>http://www.thedivergentseries.movie/#insurgent</td>\n",
       "      <td>Robert Schwentke</td>\n",
       "      <td>One Choice Can Destroy You</td>\n",
       "      <td>...</td>\n",
       "      <td>Beatrice Prior must confront her inner demons ...</td>\n",
       "      <td>119</td>\n",
       "      <td>Adventure|Science Fiction|Thriller</td>\n",
       "      <td>Summit Entertainment|Mandeville Films|Red Wago...</td>\n",
       "      <td>3/18/15</td>\n",
       "      <td>2480</td>\n",
       "      <td>6.3</td>\n",
       "      <td>2015</td>\n",
       "      <td>1.012000e+08</td>\n",
       "      <td>2.716190e+08</td>\n",
       "    </tr>\n",
       "    <tr>\n",
       "      <th>3</th>\n",
       "      <td>140607</td>\n",
       "      <td>tt2488496</td>\n",
       "      <td>11.173104</td>\n",
       "      <td>200000000</td>\n",
       "      <td>2068178225</td>\n",
       "      <td>Star Wars: The Force Awakens</td>\n",
       "      <td>Harrison Ford|Mark Hamill|Carrie Fisher|Adam D...</td>\n",
       "      <td>http://www.starwars.com/films/star-wars-episod...</td>\n",
       "      <td>J.J. Abrams</td>\n",
       "      <td>Every generation has a story.</td>\n",
       "      <td>...</td>\n",
       "      <td>Thirty years after defeating the Galactic Empi...</td>\n",
       "      <td>136</td>\n",
       "      <td>Action|Adventure|Science Fiction|Fantasy</td>\n",
       "      <td>Lucasfilm|Truenorth Productions|Bad Robot</td>\n",
       "      <td>12/15/15</td>\n",
       "      <td>5292</td>\n",
       "      <td>7.5</td>\n",
       "      <td>2015</td>\n",
       "      <td>1.839999e+08</td>\n",
       "      <td>1.902723e+09</td>\n",
       "    </tr>\n",
       "    <tr>\n",
       "      <th>4</th>\n",
       "      <td>168259</td>\n",
       "      <td>tt2820852</td>\n",
       "      <td>9.335014</td>\n",
       "      <td>190000000</td>\n",
       "      <td>1506249360</td>\n",
       "      <td>Furious 7</td>\n",
       "      <td>Vin Diesel|Paul Walker|Jason Statham|Michelle ...</td>\n",
       "      <td>http://www.furious7.com/</td>\n",
       "      <td>James Wan</td>\n",
       "      <td>Vengeance Hits Home</td>\n",
       "      <td>...</td>\n",
       "      <td>Deckard Shaw seeks revenge against Dominic Tor...</td>\n",
       "      <td>137</td>\n",
       "      <td>Action|Crime|Thriller</td>\n",
       "      <td>Universal Pictures|Original Film|Media Rights ...</td>\n",
       "      <td>4/1/15</td>\n",
       "      <td>2947</td>\n",
       "      <td>7.3</td>\n",
       "      <td>2015</td>\n",
       "      <td>1.747999e+08</td>\n",
       "      <td>1.385749e+09</td>\n",
       "    </tr>\n",
       "  </tbody>\n",
       "</table>\n",
       "<p>5 rows × 21 columns</p>\n",
       "</div>"
      ],
      "text/plain": [
       "       id    imdb_id  popularity     budget     revenue  \\\n",
       "0  135397  tt0369610   32.985763  150000000  1513528810   \n",
       "1   76341  tt1392190   28.419936  150000000   378436354   \n",
       "2  262500  tt2908446   13.112507  110000000   295238201   \n",
       "3  140607  tt2488496   11.173104  200000000  2068178225   \n",
       "4  168259  tt2820852    9.335014  190000000  1506249360   \n",
       "\n",
       "                 original_title  \\\n",
       "0                Jurassic World   \n",
       "1            Mad Max: Fury Road   \n",
       "2                     Insurgent   \n",
       "3  Star Wars: The Force Awakens   \n",
       "4                     Furious 7   \n",
       "\n",
       "                                                cast  \\\n",
       "0  Chris Pratt|Bryce Dallas Howard|Irrfan Khan|Vi...   \n",
       "1  Tom Hardy|Charlize Theron|Hugh Keays-Byrne|Nic...   \n",
       "2  Shailene Woodley|Theo James|Kate Winslet|Ansel...   \n",
       "3  Harrison Ford|Mark Hamill|Carrie Fisher|Adam D...   \n",
       "4  Vin Diesel|Paul Walker|Jason Statham|Michelle ...   \n",
       "\n",
       "                                            homepage          director  \\\n",
       "0                      http://www.jurassicworld.com/   Colin Trevorrow   \n",
       "1                        http://www.madmaxmovie.com/     George Miller   \n",
       "2     http://www.thedivergentseries.movie/#insurgent  Robert Schwentke   \n",
       "3  http://www.starwars.com/films/star-wars-episod...       J.J. Abrams   \n",
       "4                           http://www.furious7.com/         James Wan   \n",
       "\n",
       "                         tagline  ...  \\\n",
       "0              The park is open.  ...   \n",
       "1             What a Lovely Day.  ...   \n",
       "2     One Choice Can Destroy You  ...   \n",
       "3  Every generation has a story.  ...   \n",
       "4            Vengeance Hits Home  ...   \n",
       "\n",
       "                                            overview runtime  \\\n",
       "0  Twenty-two years after the events of Jurassic ...     124   \n",
       "1  An apocalyptic story set in the furthest reach...     120   \n",
       "2  Beatrice Prior must confront her inner demons ...     119   \n",
       "3  Thirty years after defeating the Galactic Empi...     136   \n",
       "4  Deckard Shaw seeks revenge against Dominic Tor...     137   \n",
       "\n",
       "                                      genres  \\\n",
       "0  Action|Adventure|Science Fiction|Thriller   \n",
       "1  Action|Adventure|Science Fiction|Thriller   \n",
       "2         Adventure|Science Fiction|Thriller   \n",
       "3   Action|Adventure|Science Fiction|Fantasy   \n",
       "4                      Action|Crime|Thriller   \n",
       "\n",
       "                                production_companies release_date vote_count  \\\n",
       "0  Universal Studios|Amblin Entertainment|Legenda...       6/9/15       5562   \n",
       "1  Village Roadshow Pictures|Kennedy Miller Produ...      5/13/15       6185   \n",
       "2  Summit Entertainment|Mandeville Films|Red Wago...      3/18/15       2480   \n",
       "3          Lucasfilm|Truenorth Productions|Bad Robot     12/15/15       5292   \n",
       "4  Universal Pictures|Original Film|Media Rights ...       4/1/15       2947   \n",
       "\n",
       "   vote_average  release_year    budget_adj   revenue_adj  \n",
       "0           6.5          2015  1.379999e+08  1.392446e+09  \n",
       "1           7.1          2015  1.379999e+08  3.481613e+08  \n",
       "2           6.3          2015  1.012000e+08  2.716190e+08  \n",
       "3           7.5          2015  1.839999e+08  1.902723e+09  \n",
       "4           7.3          2015  1.747999e+08  1.385749e+09  \n",
       "\n",
       "[5 rows x 21 columns]"
      ]
     },
     "execution_count": 97,
     "metadata": {},
     "output_type": "execute_result"
    }
   ],
   "source": [
    "#Loading the data\n",
    "\n",
    "\n",
    "df = pd.read_csv('tmdb-movies.csv')\n",
    "df.head(5)"
   ]
  },
  {
   "cell_type": "code",
   "execution_count": 98,
   "metadata": {},
   "outputs": [
    {
     "data": {
      "text/plain": [
       "(10866, 21)"
      ]
     },
     "execution_count": 98,
     "metadata": {},
     "output_type": "execute_result"
    }
   ],
   "source": [
    "#checking number of rows and columns\n",
    "\n",
    "df.shape"
   ]
  },
  {
   "cell_type": "code",
   "execution_count": 99,
   "metadata": {},
   "outputs": [
    {
     "name": "stdout",
     "output_type": "stream",
     "text": [
      "<class 'pandas.core.frame.DataFrame'>\n",
      "RangeIndex: 10866 entries, 0 to 10865\n",
      "Data columns (total 21 columns):\n",
      " #   Column                Non-Null Count  Dtype  \n",
      "---  ------                --------------  -----  \n",
      " 0   id                    10866 non-null  int64  \n",
      " 1   imdb_id               10856 non-null  object \n",
      " 2   popularity            10866 non-null  float64\n",
      " 3   budget                10866 non-null  int64  \n",
      " 4   revenue               10866 non-null  int64  \n",
      " 5   original_title        10866 non-null  object \n",
      " 6   cast                  10790 non-null  object \n",
      " 7   homepage              2936 non-null   object \n",
      " 8   director              10822 non-null  object \n",
      " 9   tagline               8042 non-null   object \n",
      " 10  keywords              9373 non-null   object \n",
      " 11  overview              10862 non-null  object \n",
      " 12  runtime               10866 non-null  int64  \n",
      " 13  genres                10843 non-null  object \n",
      " 14  production_companies  9836 non-null   object \n",
      " 15  release_date          10866 non-null  object \n",
      " 16  vote_count            10866 non-null  int64  \n",
      " 17  vote_average          10866 non-null  float64\n",
      " 18  release_year          10866 non-null  int64  \n",
      " 19  budget_adj            10866 non-null  float64\n",
      " 20  revenue_adj           10866 non-null  float64\n",
      "dtypes: float64(4), int64(6), object(11)\n",
      "memory usage: 1.7+ MB\n"
     ]
    }
   ],
   "source": [
    "#checking dataset characteristics\n",
    "\n",
    "df.info()"
   ]
  },
  {
   "cell_type": "code",
   "execution_count": 100,
   "metadata": {},
   "outputs": [
    {
     "data": {
      "text/plain": [
       "id                        int64\n",
       "imdb_id                  object\n",
       "popularity              float64\n",
       "budget                    int64\n",
       "revenue                   int64\n",
       "original_title           object\n",
       "cast                     object\n",
       "homepage                 object\n",
       "director                 object\n",
       "tagline                  object\n",
       "keywords                 object\n",
       "overview                 object\n",
       "runtime                   int64\n",
       "genres                   object\n",
       "production_companies     object\n",
       "release_date             object\n",
       "vote_count                int64\n",
       "vote_average            float64\n",
       "release_year              int64\n",
       "budget_adj              float64\n",
       "revenue_adj             float64\n",
       "dtype: object"
      ]
     },
     "execution_count": 100,
     "metadata": {},
     "output_type": "execute_result"
    }
   ],
   "source": [
    "#checking for datatypes formats\n",
    "\n",
    "df.dtypes"
   ]
  },
  {
   "cell_type": "code",
   "execution_count": 101,
   "metadata": {},
   "outputs": [
    {
     "name": "stdout",
     "output_type": "stream",
     "text": [
      "1\n"
     ]
    }
   ],
   "source": [
    "#checking for dublicates\n",
    "\n",
    "print(df.duplicated().sum())"
   ]
  },
  {
   "cell_type": "markdown",
   "metadata": {},
   "source": [
    "> Now let's create a function to check columns for missing values and the percentage that's missing.\n",
    "\n",
    "We will first check for the sum of all missing values per column and sort them from the column with the highest missing values to the least. We will do the same for percantages and only display the columns with missing values (percentage of missing values alongside total number of missing values)."
   ]
  },
  {
   "cell_type": "code",
   "execution_count": 102,
   "metadata": {},
   "outputs": [
    {
     "name": "stdout",
     "output_type": "stream",
     "text": [
      "Total and Percentage of NaN:\n",
      "                       Total  Percentage\n",
      "homepage               7930    0.729799\n",
      "tagline                2824    0.259893\n",
      "keywords               1493    0.137401\n",
      "production_companies   1030    0.094791\n",
      "cast                     76    0.006994\n",
      "director                 44    0.004049\n",
      "genres                   23    0.002117\n",
      "imdb_id                  10    0.000920\n",
      "overview                  4    0.000368\n"
     ]
    }
   ],
   "source": [
    "def check_NaNs(df):\n",
    "    '''\n",
    "    Takes df\n",
    "    Checks missing values\n",
    "    '''\n",
    "    \n",
    "    #checking the dataframe to see if any columns have missing values\n",
    "    if df.isnull().sum().sum() > 0:\n",
    "        \n",
    "        #checking for number missing values per column and output only those with missing values\n",
    "        Nan_values = df.isnull().sum().sort_values(ascending=False) \n",
    "        total = Nan_values[Nan_values > 0]\n",
    "        \n",
    "        #checking for percentage of missing values per column and output only those with missing values\n",
    "        Nan_percentage = df.isnull().mean().sort_values(ascending=False) \n",
    "        percentage = Nan_percentage[Nan_percentage > 0] \n",
    "\n",
    "        missing_values = pd.concat([total, percentage], axis=1, keys=['Total', 'Percentage'])\n",
    "    \n",
    "        print(f'Total and Percentage of NaN:\\n {missing_values}')\n",
    "    else: \n",
    "        print('No NaN found.')\n",
    "        \n",
    "        \n",
    "check_NaNs(df)"
   ]
  },
  {
   "cell_type": "markdown",
   "metadata": {},
   "source": [
    "It appears the homepage column has the most missing values and overview column with the least."
   ]
  },
  {
   "cell_type": "code",
   "execution_count": 103,
   "metadata": {},
   "outputs": [
    {
     "data": {
      "text/html": [
       "<div>\n",
       "<style scoped>\n",
       "    .dataframe tbody tr th:only-of-type {\n",
       "        vertical-align: middle;\n",
       "    }\n",
       "\n",
       "    .dataframe tbody tr th {\n",
       "        vertical-align: top;\n",
       "    }\n",
       "\n",
       "    .dataframe thead th {\n",
       "        text-align: right;\n",
       "    }\n",
       "</style>\n",
       "<table border=\"1\" class=\"dataframe\">\n",
       "  <thead>\n",
       "    <tr style=\"text-align: right;\">\n",
       "      <th></th>\n",
       "      <th>id</th>\n",
       "      <th>popularity</th>\n",
       "      <th>budget</th>\n",
       "      <th>revenue</th>\n",
       "      <th>runtime</th>\n",
       "      <th>vote_count</th>\n",
       "      <th>vote_average</th>\n",
       "      <th>release_year</th>\n",
       "      <th>budget_adj</th>\n",
       "      <th>revenue_adj</th>\n",
       "    </tr>\n",
       "  </thead>\n",
       "  <tbody>\n",
       "    <tr>\n",
       "      <th>count</th>\n",
       "      <td>10866.000000</td>\n",
       "      <td>10866.000000</td>\n",
       "      <td>1.086600e+04</td>\n",
       "      <td>1.086600e+04</td>\n",
       "      <td>10866.000000</td>\n",
       "      <td>10866.000000</td>\n",
       "      <td>10866.000000</td>\n",
       "      <td>10866.000000</td>\n",
       "      <td>1.086600e+04</td>\n",
       "      <td>1.086600e+04</td>\n",
       "    </tr>\n",
       "    <tr>\n",
       "      <th>mean</th>\n",
       "      <td>66064.177434</td>\n",
       "      <td>0.646441</td>\n",
       "      <td>1.462570e+07</td>\n",
       "      <td>3.982332e+07</td>\n",
       "      <td>102.070863</td>\n",
       "      <td>217.389748</td>\n",
       "      <td>5.974922</td>\n",
       "      <td>2001.322658</td>\n",
       "      <td>1.755104e+07</td>\n",
       "      <td>5.136436e+07</td>\n",
       "    </tr>\n",
       "    <tr>\n",
       "      <th>std</th>\n",
       "      <td>92130.136561</td>\n",
       "      <td>1.000185</td>\n",
       "      <td>3.091321e+07</td>\n",
       "      <td>1.170035e+08</td>\n",
       "      <td>31.381405</td>\n",
       "      <td>575.619058</td>\n",
       "      <td>0.935142</td>\n",
       "      <td>12.812941</td>\n",
       "      <td>3.430616e+07</td>\n",
       "      <td>1.446325e+08</td>\n",
       "    </tr>\n",
       "    <tr>\n",
       "      <th>min</th>\n",
       "      <td>5.000000</td>\n",
       "      <td>0.000065</td>\n",
       "      <td>0.000000e+00</td>\n",
       "      <td>0.000000e+00</td>\n",
       "      <td>0.000000</td>\n",
       "      <td>10.000000</td>\n",
       "      <td>1.500000</td>\n",
       "      <td>1960.000000</td>\n",
       "      <td>0.000000e+00</td>\n",
       "      <td>0.000000e+00</td>\n",
       "    </tr>\n",
       "    <tr>\n",
       "      <th>25%</th>\n",
       "      <td>10596.250000</td>\n",
       "      <td>0.207583</td>\n",
       "      <td>0.000000e+00</td>\n",
       "      <td>0.000000e+00</td>\n",
       "      <td>90.000000</td>\n",
       "      <td>17.000000</td>\n",
       "      <td>5.400000</td>\n",
       "      <td>1995.000000</td>\n",
       "      <td>0.000000e+00</td>\n",
       "      <td>0.000000e+00</td>\n",
       "    </tr>\n",
       "    <tr>\n",
       "      <th>50%</th>\n",
       "      <td>20669.000000</td>\n",
       "      <td>0.383856</td>\n",
       "      <td>0.000000e+00</td>\n",
       "      <td>0.000000e+00</td>\n",
       "      <td>99.000000</td>\n",
       "      <td>38.000000</td>\n",
       "      <td>6.000000</td>\n",
       "      <td>2006.000000</td>\n",
       "      <td>0.000000e+00</td>\n",
       "      <td>0.000000e+00</td>\n",
       "    </tr>\n",
       "    <tr>\n",
       "      <th>75%</th>\n",
       "      <td>75610.000000</td>\n",
       "      <td>0.713817</td>\n",
       "      <td>1.500000e+07</td>\n",
       "      <td>2.400000e+07</td>\n",
       "      <td>111.000000</td>\n",
       "      <td>145.750000</td>\n",
       "      <td>6.600000</td>\n",
       "      <td>2011.000000</td>\n",
       "      <td>2.085325e+07</td>\n",
       "      <td>3.369710e+07</td>\n",
       "    </tr>\n",
       "    <tr>\n",
       "      <th>max</th>\n",
       "      <td>417859.000000</td>\n",
       "      <td>32.985763</td>\n",
       "      <td>4.250000e+08</td>\n",
       "      <td>2.781506e+09</td>\n",
       "      <td>900.000000</td>\n",
       "      <td>9767.000000</td>\n",
       "      <td>9.200000</td>\n",
       "      <td>2015.000000</td>\n",
       "      <td>4.250000e+08</td>\n",
       "      <td>2.827124e+09</td>\n",
       "    </tr>\n",
       "  </tbody>\n",
       "</table>\n",
       "</div>"
      ],
      "text/plain": [
       "                  id    popularity        budget       revenue       runtime  \\\n",
       "count   10866.000000  10866.000000  1.086600e+04  1.086600e+04  10866.000000   \n",
       "mean    66064.177434      0.646441  1.462570e+07  3.982332e+07    102.070863   \n",
       "std     92130.136561      1.000185  3.091321e+07  1.170035e+08     31.381405   \n",
       "min         5.000000      0.000065  0.000000e+00  0.000000e+00      0.000000   \n",
       "25%     10596.250000      0.207583  0.000000e+00  0.000000e+00     90.000000   \n",
       "50%     20669.000000      0.383856  0.000000e+00  0.000000e+00     99.000000   \n",
       "75%     75610.000000      0.713817  1.500000e+07  2.400000e+07    111.000000   \n",
       "max    417859.000000     32.985763  4.250000e+08  2.781506e+09    900.000000   \n",
       "\n",
       "         vote_count  vote_average  release_year    budget_adj   revenue_adj  \n",
       "count  10866.000000  10866.000000  10866.000000  1.086600e+04  1.086600e+04  \n",
       "mean     217.389748      5.974922   2001.322658  1.755104e+07  5.136436e+07  \n",
       "std      575.619058      0.935142     12.812941  3.430616e+07  1.446325e+08  \n",
       "min       10.000000      1.500000   1960.000000  0.000000e+00  0.000000e+00  \n",
       "25%       17.000000      5.400000   1995.000000  0.000000e+00  0.000000e+00  \n",
       "50%       38.000000      6.000000   2006.000000  0.000000e+00  0.000000e+00  \n",
       "75%      145.750000      6.600000   2011.000000  2.085325e+07  3.369710e+07  \n",
       "max     9767.000000      9.200000   2015.000000  4.250000e+08  2.827124e+09  "
      ]
     },
     "execution_count": 103,
     "metadata": {},
     "output_type": "execute_result"
    }
   ],
   "source": [
    " # summary statistics\n",
    "\n",
    "df.describe()"
   ]
  },
  {
   "cell_type": "markdown",
   "metadata": {},
   "source": [
    "> **Note 1**: Based on the above outputs, the dataset has 10,866 rows of data and 21 columns. Some rows have missing values, there is 1 duplicate row and 2 columns (release_date and release_year) have wrong datatype formats.\n",
    "\n",
    "> **Note 2**: Most of the columns in the dataset will not be needed in the analysis. Therefore, to narrow the analysis down to only the required columns, we will drop all columns unnecessary in the analysis. This will help work with a smaller dataset.\n",
    "\n",
    "\n",
    "### Data Cleaning \n",
    ">**Note**: We will clean the dataset in the following order:\n",
    "    - drop collumns that won't be used in the analysis\n",
    "    - fix columns with the wrong datatypes\n",
    "    - check for duplicates in the dataset and drop them\n",
    "    - check for missing values in each columns and fix them"
   ]
  },
  {
   "cell_type": "code",
   "execution_count": 104,
   "metadata": {},
   "outputs": [
    {
     "name": "stdout",
     "output_type": "stream",
     "text": [
      "<class 'pandas.core.frame.DataFrame'>\n",
      "RangeIndex: 10866 entries, 0 to 10865\n",
      "Data columns (total 11 columns):\n",
      " #   Column          Non-Null Count  Dtype  \n",
      "---  ------          --------------  -----  \n",
      " 0   popularity      10866 non-null  float64\n",
      " 1   original_title  10866 non-null  object \n",
      " 2   director        10822 non-null  object \n",
      " 3   runtime         10866 non-null  int64  \n",
      " 4   genres          10843 non-null  object \n",
      " 5   release_date    10866 non-null  object \n",
      " 6   vote_count      10866 non-null  int64  \n",
      " 7   vote_average    10866 non-null  float64\n",
      " 8   release_year    10866 non-null  int64  \n",
      " 9   budget_adj      10866 non-null  float64\n",
      " 10  revenue_adj     10866 non-null  float64\n",
      "dtypes: float64(4), int64(3), object(4)\n",
      "memory usage: 933.9+ KB\n"
     ]
    }
   ],
   "source": [
    "\n",
    "#dropping rows that won't be used\n",
    "\n",
    "df.drop(['homepage', 'tagline', 'keywords', 'cast', 'overview', 'imdb_id', 'budget', 'revenue', 'production_companies', 'id'], axis=1, inplace=True)\n",
    "\n",
    "df.info()"
   ]
  },
  {
   "cell_type": "markdown",
   "metadata": {},
   "source": [
    "The above dropped columns will not be needed in the analysis. \n",
    "\n",
    "> **Note 1**: Instead of using the budget and revenue columns, we will use the ones adjusted to inflation (revenue_adj and budget_adj).  We also drop the imdb_id and id columns as they won't be used anywhere in the analysis.\n",
    "\n",
    "> **Note 2**: It is also important to note that most of the missing values are found in some of the above dropped columns, this therefore reduces the burden of having to fill missing rows. There still are, however, rows in the dataset with missing entries. We will address those in the cell operations below"
   ]
  },
  {
   "cell_type": "code",
   "execution_count": 105,
   "metadata": {},
   "outputs": [
    {
     "data": {
      "text/plain": [
       "popularity               float64\n",
       "original_title            object\n",
       "director                  object\n",
       "runtime                    int64\n",
       "genres                    object\n",
       "release_date      datetime64[ns]\n",
       "vote_count                 int64\n",
       "vote_average             float64\n",
       "release_year      datetime64[ns]\n",
       "budget_adj               float64\n",
       "revenue_adj              float64\n",
       "dtype: object"
      ]
     },
     "execution_count": 105,
     "metadata": {},
     "output_type": "execute_result"
    }
   ],
   "source": [
    "#fixing datatypes\n",
    "\n",
    "df['release_date'] = pd.to_datetime(df['release_date'])\n",
    "df['release_year'] = pd.to_datetime(df['release_year'])\n",
    "\n",
    "df.dtypes"
   ]
  },
  {
   "cell_type": "markdown",
   "metadata": {},
   "source": [
    "Notice the formats for release_date and release_year have been corrected"
   ]
  },
  {
   "cell_type": "code",
   "execution_count": 106,
   "metadata": {},
   "outputs": [],
   "source": [
    "#droping duplicates\n",
    "\n",
    "df.drop_duplicates(inplace=True)"
   ]
  },
  {
   "cell_type": "code",
   "execution_count": 107,
   "metadata": {},
   "outputs": [
    {
     "name": "stdout",
     "output_type": "stream",
     "text": [
      "0\n"
     ]
    }
   ],
   "source": [
    "#confirming for dublucates\n",
    "print(df.duplicated().sum())"
   ]
  },
  {
   "cell_type": "markdown",
   "metadata": {},
   "source": [
    "Confrirmed above, there are no duplicate entries\n",
    "\n",
    "> *Tip*: Below, we address the issue of missing values in some rows. Lets look again at the remaining columns with missing values"
   ]
  },
  {
   "cell_type": "code",
   "execution_count": 108,
   "metadata": {},
   "outputs": [
    {
     "data": {
      "text/plain": [
       "popularity         0\n",
       "original_title     0\n",
       "director          44\n",
       "runtime            0\n",
       "genres            23\n",
       "release_date       0\n",
       "vote_count         0\n",
       "vote_average       0\n",
       "release_year       0\n",
       "budget_adj         0\n",
       "revenue_adj        0\n",
       "dtype: int64"
      ]
     },
     "execution_count": 108,
     "metadata": {},
     "output_type": "execute_result"
    }
   ],
   "source": [
    "#view missing counts for each column\n",
    "\n",
    "df.isnull().sum()"
   ]
  },
  {
   "cell_type": "markdown",
   "metadata": {},
   "source": [
    ">*Note*: As seen above, the only columns with missing values are the <b>director</b> and <b>genres</b> columns. Since the datatypes for these columns are object(string), we cannot use the \"fill the mean\" method to fill in the mean values of these columns in the missing entries. Also, the values for each row in these two columns is specific to each movie, this makes it harder to fill in random strings.\n",
    "\n",
    "For the above reasons, we will drop the rows with missing values."
   ]
  },
  {
   "cell_type": "code",
   "execution_count": 109,
   "metadata": {},
   "outputs": [],
   "source": [
    "#dropping remaining rows with missing\n",
    "\n",
    "df.dropna(inplace=True)"
   ]
  },
  {
   "cell_type": "code",
   "execution_count": 110,
   "metadata": {},
   "outputs": [
    {
     "data": {
      "text/plain": [
       "False"
      ]
     },
     "execution_count": 110,
     "metadata": {},
     "output_type": "execute_result"
    }
   ],
   "source": [
    "#cheking if columns have null values\n",
    "\n",
    "df.isnull().sum().any()"
   ]
  },
  {
   "cell_type": "code",
   "execution_count": 111,
   "metadata": {},
   "outputs": [
    {
     "name": "stdout",
     "output_type": "stream",
     "text": [
      "<class 'pandas.core.frame.DataFrame'>\n",
      "Int64Index: 10800 entries, 0 to 10865\n",
      "Data columns (total 11 columns):\n",
      " #   Column          Non-Null Count  Dtype         \n",
      "---  ------          --------------  -----         \n",
      " 0   popularity      10800 non-null  float64       \n",
      " 1   original_title  10800 non-null  object        \n",
      " 2   director        10800 non-null  object        \n",
      " 3   runtime         10800 non-null  int64         \n",
      " 4   genres          10800 non-null  object        \n",
      " 5   release_date    10800 non-null  datetime64[ns]\n",
      " 6   vote_count      10800 non-null  int64         \n",
      " 7   vote_average    10800 non-null  float64       \n",
      " 8   release_year    10800 non-null  datetime64[ns]\n",
      " 9   budget_adj      10800 non-null  float64       \n",
      " 10  revenue_adj     10800 non-null  float64       \n",
      "dtypes: datetime64[ns](2), float64(4), int64(2), object(3)\n",
      "memory usage: 1012.5+ KB\n"
     ]
    }
   ],
   "source": [
    "df.info()"
   ]
  },
  {
   "cell_type": "markdown",
   "metadata": {},
   "source": [
    "Now our dataset is clean.\n",
    "\n",
    "\n",
    ">*Note*: Before moving on to EDA, lets make a structural modifications to the dataset. We will check for, and drop rows in the budget_adj and revenue_adj columns whose values are <b>zero</b>. This is because we will need to compute for profits & losses incurrred by the movies."
   ]
  },
  {
   "cell_type": "code",
   "execution_count": 112,
   "metadata": {},
   "outputs": [],
   "source": [
    "#structural modifications - dropping rows with 0 budget\n",
    "\n",
    "df = df[(df.budget_adj != 0) & (df.revenue_adj != 0) ]"
   ]
  },
  {
   "cell_type": "code",
   "execution_count": 113,
   "metadata": {},
   "outputs": [
    {
     "name": "stdout",
     "output_type": "stream",
     "text": [
      "<class 'pandas.core.frame.DataFrame'>\n",
      "Int64Index: 3853 entries, 0 to 10848\n",
      "Data columns (total 11 columns):\n",
      " #   Column          Non-Null Count  Dtype         \n",
      "---  ------          --------------  -----         \n",
      " 0   popularity      3853 non-null   float64       \n",
      " 1   original_title  3853 non-null   object        \n",
      " 2   director        3853 non-null   object        \n",
      " 3   runtime         3853 non-null   int64         \n",
      " 4   genres          3853 non-null   object        \n",
      " 5   release_date    3853 non-null   datetime64[ns]\n",
      " 6   vote_count      3853 non-null   int64         \n",
      " 7   vote_average    3853 non-null   float64       \n",
      " 8   release_year    3853 non-null   datetime64[ns]\n",
      " 9   budget_adj      3853 non-null   float64       \n",
      " 10  revenue_adj     3853 non-null   float64       \n",
      "dtypes: datetime64[ns](2), float64(4), int64(2), object(3)\n",
      "memory usage: 361.2+ KB\n"
     ]
    }
   ],
   "source": [
    "df.info()"
   ]
  },
  {
   "cell_type": "code",
   "execution_count": 114,
   "metadata": {},
   "outputs": [
    {
     "data": {
      "text/plain": [
       "(3853, 11)"
      ]
     },
     "execution_count": 114,
     "metadata": {},
     "output_type": "execute_result"
    }
   ],
   "source": [
    "df.shape"
   ]
  },
  {
   "cell_type": "markdown",
   "metadata": {},
   "source": [
    "The above modification leaves us with a smaller, more accurate dataset. (3853 rows, 11 columns)"
   ]
  },
  {
   "cell_type": "markdown",
   "metadata": {},
   "source": [
    "<a id='eda'></a>\n",
    "## Exploratory Data Analysis\n",
    "\n",
    "   > **Note 1**: Now that we've trimmed and cleaned the data, let us move on to exploration. We will first of all generate new columns. These are <b>profits</b> (revenue_adj - budget_adj) <b>budget_type</b> (Low, Medium and High budget movies) and <b>rating</b>(Bad, Good or Great) for the movie rating.\n",
    "\n",
    "> **Note 2**: The budget_type is derived from the amount of money used in the production of a movie while the rating is derived from the vote_average percentiles.\n",
    "\n",
    "> **Note 3**: The reason for creating the budget_type and rating columns is that the budget_adj and vote_count columns(which are key in answering the analysis quetsions) have no clear categories and so there is need to engineer categorical variables.\n",
    "    \n",
    "    First we create the profits column, then the budget_type and finally the rating column.\n",
    "\n",
    "\n",
    "\n"
   ]
  },
  {
   "cell_type": "code",
   "execution_count": 115,
   "metadata": {},
   "outputs": [
    {
     "name": "stdout",
     "output_type": "stream",
     "text": [
      "<class 'pandas.core.frame.DataFrame'>\n",
      "Int64Index: 3853 entries, 0 to 10848\n",
      "Data columns (total 12 columns):\n",
      " #   Column          Non-Null Count  Dtype         \n",
      "---  ------          --------------  -----         \n",
      " 0   popularity      3853 non-null   float64       \n",
      " 1   original_title  3853 non-null   object        \n",
      " 2   director        3853 non-null   object        \n",
      " 3   runtime         3853 non-null   int64         \n",
      " 4   genres          3853 non-null   object        \n",
      " 5   release_date    3853 non-null   datetime64[ns]\n",
      " 6   vote_count      3853 non-null   int64         \n",
      " 7   vote_average    3853 non-null   float64       \n",
      " 8   release_year    3853 non-null   datetime64[ns]\n",
      " 9   budget_adj      3853 non-null   float64       \n",
      " 10  revenue_adj     3853 non-null   float64       \n",
      " 11  profits         3853 non-null   float64       \n",
      "dtypes: datetime64[ns](2), float64(5), int64(2), object(3)\n",
      "memory usage: 391.3+ KB\n"
     ]
    }
   ],
   "source": [
    "#creating a profits column \n",
    "df = df.assign(profits = df.revenue_adj - df.budget_adj)\n",
    "\n",
    "#confirmation\n",
    "df.info()"
   ]
  },
  {
   "cell_type": "markdown",
   "metadata": {},
   "source": [
    "In the cell above, we create a column <b>\"profits\"</b> whose contents are the difference of the revenue_adj column and budget_adj column.\n",
    "\n",
    "    Now lets categorize movies by the amount of money it took to produce"
   ]
  },
  {
   "cell_type": "code",
   "execution_count": 116,
   "metadata": {},
   "outputs": [
    {
     "data": {
      "text/html": [
       "<div>\n",
       "<style scoped>\n",
       "    .dataframe tbody tr th:only-of-type {\n",
       "        vertical-align: middle;\n",
       "    }\n",
       "\n",
       "    .dataframe tbody tr th {\n",
       "        vertical-align: top;\n",
       "    }\n",
       "\n",
       "    .dataframe thead th {\n",
       "        text-align: right;\n",
       "    }\n",
       "</style>\n",
       "<table border=\"1\" class=\"dataframe\">\n",
       "  <thead>\n",
       "    <tr style=\"text-align: right;\">\n",
       "      <th></th>\n",
       "      <th>popularity</th>\n",
       "      <th>original_title</th>\n",
       "      <th>director</th>\n",
       "      <th>runtime</th>\n",
       "      <th>genres</th>\n",
       "      <th>release_date</th>\n",
       "      <th>vote_count</th>\n",
       "      <th>vote_average</th>\n",
       "      <th>release_year</th>\n",
       "      <th>budget_adj</th>\n",
       "      <th>revenue_adj</th>\n",
       "      <th>profits</th>\n",
       "      <th>budget_type</th>\n",
       "    </tr>\n",
       "  </thead>\n",
       "  <tbody>\n",
       "    <tr>\n",
       "      <th>0</th>\n",
       "      <td>32.985763</td>\n",
       "      <td>Jurassic World</td>\n",
       "      <td>Colin Trevorrow</td>\n",
       "      <td>124</td>\n",
       "      <td>Action|Adventure|Science Fiction|Thriller</td>\n",
       "      <td>2015-06-09</td>\n",
       "      <td>5562</td>\n",
       "      <td>6.5</td>\n",
       "      <td>1970-01-01 00:00:00.000002015</td>\n",
       "      <td>1.379999e+08</td>\n",
       "      <td>1.392446e+09</td>\n",
       "      <td>1.254446e+09</td>\n",
       "      <td>Low</td>\n",
       "    </tr>\n",
       "    <tr>\n",
       "      <th>1</th>\n",
       "      <td>28.419936</td>\n",
       "      <td>Mad Max: Fury Road</td>\n",
       "      <td>George Miller</td>\n",
       "      <td>120</td>\n",
       "      <td>Action|Adventure|Science Fiction|Thriller</td>\n",
       "      <td>2015-05-13</td>\n",
       "      <td>6185</td>\n",
       "      <td>7.1</td>\n",
       "      <td>1970-01-01 00:00:00.000002015</td>\n",
       "      <td>1.379999e+08</td>\n",
       "      <td>3.481613e+08</td>\n",
       "      <td>2.101614e+08</td>\n",
       "      <td>Low</td>\n",
       "    </tr>\n",
       "    <tr>\n",
       "      <th>2</th>\n",
       "      <td>13.112507</td>\n",
       "      <td>Insurgent</td>\n",
       "      <td>Robert Schwentke</td>\n",
       "      <td>119</td>\n",
       "      <td>Adventure|Science Fiction|Thriller</td>\n",
       "      <td>2015-03-18</td>\n",
       "      <td>2480</td>\n",
       "      <td>6.3</td>\n",
       "      <td>1970-01-01 00:00:00.000002015</td>\n",
       "      <td>1.012000e+08</td>\n",
       "      <td>2.716190e+08</td>\n",
       "      <td>1.704191e+08</td>\n",
       "      <td>Low</td>\n",
       "    </tr>\n",
       "    <tr>\n",
       "      <th>3</th>\n",
       "      <td>11.173104</td>\n",
       "      <td>Star Wars: The Force Awakens</td>\n",
       "      <td>J.J. Abrams</td>\n",
       "      <td>136</td>\n",
       "      <td>Action|Adventure|Science Fiction|Fantasy</td>\n",
       "      <td>2015-12-15</td>\n",
       "      <td>5292</td>\n",
       "      <td>7.5</td>\n",
       "      <td>1970-01-01 00:00:00.000002015</td>\n",
       "      <td>1.839999e+08</td>\n",
       "      <td>1.902723e+09</td>\n",
       "      <td>1.718723e+09</td>\n",
       "      <td>Medium</td>\n",
       "    </tr>\n",
       "    <tr>\n",
       "      <th>4</th>\n",
       "      <td>9.335014</td>\n",
       "      <td>Furious 7</td>\n",
       "      <td>James Wan</td>\n",
       "      <td>137</td>\n",
       "      <td>Action|Crime|Thriller</td>\n",
       "      <td>2015-04-01</td>\n",
       "      <td>2947</td>\n",
       "      <td>7.3</td>\n",
       "      <td>1970-01-01 00:00:00.000002015</td>\n",
       "      <td>1.747999e+08</td>\n",
       "      <td>1.385749e+09</td>\n",
       "      <td>1.210949e+09</td>\n",
       "      <td>Medium</td>\n",
       "    </tr>\n",
       "  </tbody>\n",
       "</table>\n",
       "</div>"
      ],
      "text/plain": [
       "   popularity                original_title          director  runtime  \\\n",
       "0   32.985763                Jurassic World   Colin Trevorrow      124   \n",
       "1   28.419936            Mad Max: Fury Road     George Miller      120   \n",
       "2   13.112507                     Insurgent  Robert Schwentke      119   \n",
       "3   11.173104  Star Wars: The Force Awakens       J.J. Abrams      136   \n",
       "4    9.335014                     Furious 7         James Wan      137   \n",
       "\n",
       "                                      genres release_date  vote_count  \\\n",
       "0  Action|Adventure|Science Fiction|Thriller   2015-06-09        5562   \n",
       "1  Action|Adventure|Science Fiction|Thriller   2015-05-13        6185   \n",
       "2         Adventure|Science Fiction|Thriller   2015-03-18        2480   \n",
       "3   Action|Adventure|Science Fiction|Fantasy   2015-12-15        5292   \n",
       "4                      Action|Crime|Thriller   2015-04-01        2947   \n",
       "\n",
       "   vote_average                  release_year    budget_adj   revenue_adj  \\\n",
       "0           6.5 1970-01-01 00:00:00.000002015  1.379999e+08  1.392446e+09   \n",
       "1           7.1 1970-01-01 00:00:00.000002015  1.379999e+08  3.481613e+08   \n",
       "2           6.3 1970-01-01 00:00:00.000002015  1.012000e+08  2.716190e+08   \n",
       "3           7.5 1970-01-01 00:00:00.000002015  1.839999e+08  1.902723e+09   \n",
       "4           7.3 1970-01-01 00:00:00.000002015  1.747999e+08  1.385749e+09   \n",
       "\n",
       "        profits budget_type  \n",
       "0  1.254446e+09         Low  \n",
       "1  2.101614e+08         Low  \n",
       "2  1.704191e+08         Low  \n",
       "3  1.718723e+09      Medium  \n",
       "4  1.210949e+09      Medium  "
      ]
     },
     "execution_count": 116,
     "metadata": {},
     "output_type": "execute_result"
    }
   ],
   "source": [
    "# categorizing movies in Low, Medium and High budget\n",
    "\n",
    "df['budget_type']=pd.cut(df['budget_adj'], bins=3, labels= ('Low', 'Medium', 'High'))\n",
    "df.head()"
   ]
  },
  {
   "cell_type": "markdown",
   "metadata": {},
   "source": [
    "    Above, we are creating the column <b>\"budget_type\"</b> from the budget_adj column. \n",
    "Here, we use \"cut\" function to divide the max budget value to 3 equal percentiles. We then create 3 bins which we label as <b>Low, Medium and High</b> with each representing the a range of values related to each of the three percentiles. "
   ]
  },
  {
   "cell_type": "code",
   "execution_count": 117,
   "metadata": {},
   "outputs": [
    {
     "data": {
      "text/html": [
       "<div>\n",
       "<style scoped>\n",
       "    .dataframe tbody tr th:only-of-type {\n",
       "        vertical-align: middle;\n",
       "    }\n",
       "\n",
       "    .dataframe tbody tr th {\n",
       "        vertical-align: top;\n",
       "    }\n",
       "\n",
       "    .dataframe thead th {\n",
       "        text-align: right;\n",
       "    }\n",
       "</style>\n",
       "<table border=\"1\" class=\"dataframe\">\n",
       "  <thead>\n",
       "    <tr style=\"text-align: right;\">\n",
       "      <th></th>\n",
       "      <th>popularity</th>\n",
       "      <th>original_title</th>\n",
       "      <th>director</th>\n",
       "      <th>runtime</th>\n",
       "      <th>genres</th>\n",
       "      <th>release_date</th>\n",
       "      <th>vote_count</th>\n",
       "      <th>vote_average</th>\n",
       "      <th>release_year</th>\n",
       "      <th>budget_adj</th>\n",
       "      <th>revenue_adj</th>\n",
       "      <th>profits</th>\n",
       "      <th>budget_type</th>\n",
       "      <th>rating</th>\n",
       "    </tr>\n",
       "  </thead>\n",
       "  <tbody>\n",
       "    <tr>\n",
       "      <th>0</th>\n",
       "      <td>32.985763</td>\n",
       "      <td>Jurassic World</td>\n",
       "      <td>Colin Trevorrow</td>\n",
       "      <td>124</td>\n",
       "      <td>Action|Adventure|Science Fiction|Thriller</td>\n",
       "      <td>2015-06-09</td>\n",
       "      <td>5562</td>\n",
       "      <td>6.5</td>\n",
       "      <td>1970-01-01 00:00:00.000002015</td>\n",
       "      <td>1.379999e+08</td>\n",
       "      <td>1.392446e+09</td>\n",
       "      <td>1.254446e+09</td>\n",
       "      <td>Low</td>\n",
       "      <td>Great</td>\n",
       "    </tr>\n",
       "    <tr>\n",
       "      <th>1</th>\n",
       "      <td>28.419936</td>\n",
       "      <td>Mad Max: Fury Road</td>\n",
       "      <td>George Miller</td>\n",
       "      <td>120</td>\n",
       "      <td>Action|Adventure|Science Fiction|Thriller</td>\n",
       "      <td>2015-05-13</td>\n",
       "      <td>6185</td>\n",
       "      <td>7.1</td>\n",
       "      <td>1970-01-01 00:00:00.000002015</td>\n",
       "      <td>1.379999e+08</td>\n",
       "      <td>3.481613e+08</td>\n",
       "      <td>2.101614e+08</td>\n",
       "      <td>Low</td>\n",
       "      <td>Great</td>\n",
       "    </tr>\n",
       "    <tr>\n",
       "      <th>2</th>\n",
       "      <td>13.112507</td>\n",
       "      <td>Insurgent</td>\n",
       "      <td>Robert Schwentke</td>\n",
       "      <td>119</td>\n",
       "      <td>Adventure|Science Fiction|Thriller</td>\n",
       "      <td>2015-03-18</td>\n",
       "      <td>2480</td>\n",
       "      <td>6.3</td>\n",
       "      <td>1970-01-01 00:00:00.000002015</td>\n",
       "      <td>1.012000e+08</td>\n",
       "      <td>2.716190e+08</td>\n",
       "      <td>1.704191e+08</td>\n",
       "      <td>Low</td>\n",
       "      <td>Good</td>\n",
       "    </tr>\n",
       "    <tr>\n",
       "      <th>3</th>\n",
       "      <td>11.173104</td>\n",
       "      <td>Star Wars: The Force Awakens</td>\n",
       "      <td>J.J. Abrams</td>\n",
       "      <td>136</td>\n",
       "      <td>Action|Adventure|Science Fiction|Fantasy</td>\n",
       "      <td>2015-12-15</td>\n",
       "      <td>5292</td>\n",
       "      <td>7.5</td>\n",
       "      <td>1970-01-01 00:00:00.000002015</td>\n",
       "      <td>1.839999e+08</td>\n",
       "      <td>1.902723e+09</td>\n",
       "      <td>1.718723e+09</td>\n",
       "      <td>Medium</td>\n",
       "      <td>Great</td>\n",
       "    </tr>\n",
       "    <tr>\n",
       "      <th>4</th>\n",
       "      <td>9.335014</td>\n",
       "      <td>Furious 7</td>\n",
       "      <td>James Wan</td>\n",
       "      <td>137</td>\n",
       "      <td>Action|Crime|Thriller</td>\n",
       "      <td>2015-04-01</td>\n",
       "      <td>2947</td>\n",
       "      <td>7.3</td>\n",
       "      <td>1970-01-01 00:00:00.000002015</td>\n",
       "      <td>1.747999e+08</td>\n",
       "      <td>1.385749e+09</td>\n",
       "      <td>1.210949e+09</td>\n",
       "      <td>Medium</td>\n",
       "      <td>Great</td>\n",
       "    </tr>\n",
       "  </tbody>\n",
       "</table>\n",
       "</div>"
      ],
      "text/plain": [
       "   popularity                original_title          director  runtime  \\\n",
       "0   32.985763                Jurassic World   Colin Trevorrow      124   \n",
       "1   28.419936            Mad Max: Fury Road     George Miller      120   \n",
       "2   13.112507                     Insurgent  Robert Schwentke      119   \n",
       "3   11.173104  Star Wars: The Force Awakens       J.J. Abrams      136   \n",
       "4    9.335014                     Furious 7         James Wan      137   \n",
       "\n",
       "                                      genres release_date  vote_count  \\\n",
       "0  Action|Adventure|Science Fiction|Thriller   2015-06-09        5562   \n",
       "1  Action|Adventure|Science Fiction|Thriller   2015-05-13        6185   \n",
       "2         Adventure|Science Fiction|Thriller   2015-03-18        2480   \n",
       "3   Action|Adventure|Science Fiction|Fantasy   2015-12-15        5292   \n",
       "4                      Action|Crime|Thriller   2015-04-01        2947   \n",
       "\n",
       "   vote_average                  release_year    budget_adj   revenue_adj  \\\n",
       "0           6.5 1970-01-01 00:00:00.000002015  1.379999e+08  1.392446e+09   \n",
       "1           7.1 1970-01-01 00:00:00.000002015  1.379999e+08  3.481613e+08   \n",
       "2           6.3 1970-01-01 00:00:00.000002015  1.012000e+08  2.716190e+08   \n",
       "3           7.5 1970-01-01 00:00:00.000002015  1.839999e+08  1.902723e+09   \n",
       "4           7.3 1970-01-01 00:00:00.000002015  1.747999e+08  1.385749e+09   \n",
       "\n",
       "        profits budget_type rating  \n",
       "0  1.254446e+09         Low  Great  \n",
       "1  2.101614e+08         Low  Great  \n",
       "2  1.704191e+08         Low   Good  \n",
       "3  1.718723e+09      Medium  Great  \n",
       "4  1.210949e+09      Medium  Great  "
      ]
     },
     "execution_count": 117,
     "metadata": {},
     "output_type": "execute_result"
    }
   ],
   "source": [
    "# creating rating column\n",
    "\n",
    "df['rating']=pd.cut(df['vote_average'], bins=3, labels= ('Bad', 'Good', 'Great'))\n",
    "df.head()"
   ]
  },
  {
   "cell_type": "markdown",
   "metadata": {},
   "source": [
    " And finally, creating the column <b>\"rating\"</b> from the vote_count column. \n",
    "Here, we also use \"cut\" function to divide the maximum vote_count to 3 equal percentiles. We then create 3 bins which we label as <b>Bad, Good and Great</b> with each representing the a range of values related to each of the three percentiles. "
   ]
  },
  {
   "cell_type": "code",
   "execution_count": 118,
   "metadata": {},
   "outputs": [
    {
     "name": "stdout",
     "output_type": "stream",
     "text": [
      "<class 'pandas.core.frame.DataFrame'>\n",
      "Int64Index: 3853 entries, 0 to 10848\n",
      "Data columns (total 14 columns):\n",
      " #   Column          Non-Null Count  Dtype         \n",
      "---  ------          --------------  -----         \n",
      " 0   popularity      3853 non-null   float64       \n",
      " 1   original_title  3853 non-null   object        \n",
      " 2   director        3853 non-null   object        \n",
      " 3   runtime         3853 non-null   int64         \n",
      " 4   genres          3853 non-null   object        \n",
      " 5   release_date    3853 non-null   datetime64[ns]\n",
      " 6   vote_count      3853 non-null   int64         \n",
      " 7   vote_average    3853 non-null   float64       \n",
      " 8   release_year    3853 non-null   datetime64[ns]\n",
      " 9   budget_adj      3853 non-null   float64       \n",
      " 10  revenue_adj     3853 non-null   float64       \n",
      " 11  profits         3853 non-null   float64       \n",
      " 12  budget_type     3853 non-null   category      \n",
      " 13  rating          3853 non-null   category      \n",
      "dtypes: category(2), datetime64[ns](2), float64(5), int64(2), object(3)\n",
      "memory usage: 399.0+ KB\n"
     ]
    }
   ],
   "source": [
    "df.info()"
   ]
  },
  {
   "cell_type": "markdown",
   "metadata": {},
   "source": [
    "Now we are ready to start our analyis"
   ]
  },
  {
   "cell_type": "markdown",
   "metadata": {},
   "source": [
    "### Question 1: Which budget category made the highest profits?"
   ]
  },
  {
   "cell_type": "markdown",
   "metadata": {},
   "source": [
    "Let us first look at how many movies are in each budget category and the mean profits of each."
   ]
  },
  {
   "cell_type": "code",
   "execution_count": 119,
   "metadata": {},
   "outputs": [
    {
     "data": {
      "text/plain": [
       "Low       3667\n",
       "Medium     182\n",
       "High         4\n",
       "Name: budget_type, dtype: int64"
      ]
     },
     "execution_count": 119,
     "metadata": {},
     "output_type": "execute_result"
    }
   ],
   "source": [
    "#number of movies in each budget category\n",
    "\n",
    "df['budget_type'].value_counts()"
   ]
  },
  {
   "cell_type": "code",
   "execution_count": 120,
   "metadata": {},
   "outputs": [
    {
     "data": {
      "text/plain": [
       "budget_type\n",
       "Low       7.841672e+07\n",
       "Medium    3.799512e+08\n",
       "High      2.585641e+08\n",
       "Name: profits, dtype: float64"
      ]
     },
     "execution_count": 120,
     "metadata": {},
     "output_type": "execute_result"
    }
   ],
   "source": [
    "# mean pofits for each budget category \n",
    "\n",
    "df.groupby('budget_type').profits.mean()"
   ]
  },
  {
   "cell_type": "markdown",
   "metadata": {},
   "source": [
    "Based on the above computations, lets draw visualizations to help us answer the question "
   ]
  },
  {
   "cell_type": "code",
   "execution_count": 121,
   "metadata": {},
   "outputs": [
    {
     "data": {
      "image/png": "[encoded data removed]",
      "text/plain": [
       "<Figure size 432x288 with 1 Axes>"
      ]
     },
     "metadata": {
      "needs_background": "light"
     },
     "output_type": "display_data"
    }
   ],
   "source": [
    "#medium budget films seem to make lots of profits\n",
    "\n",
    "btype_means =df.groupby('budget_type').profits.mean()\n",
    "btype_means.plot(kind='bar', title='Average Profits by Budget Type', alpha=.7);\n",
    "plt.xlabel('Budget Type', fontsize=18)\n",
    "plt.ylabel('Profits', fontsize=18);"
   ]
  },
  {
   "cell_type": "markdown",
   "metadata": {},
   "source": [
    "Let's plot a histogram to view the computation to detail\n",
    "\n",
    ">**Note**: We will first create masks for the three categories. Each mask contains the mean profit for that specific budgte category.\n",
    "Then we will use the masks to plot relations on the histogram"
   ]
  },
  {
   "cell_type": "code",
   "execution_count": 122,
   "metadata": {},
   "outputs": [],
   "source": [
    "#creating masks for the above categories\n",
    "\n",
    "LowB = df.budget_type == \"Low\"\n",
    "MediumB = df.budget_type == \"Medium\"\n",
    "HighB = df.budget_type == \"High\""
   ]
  },
  {
   "cell_type": "code",
   "execution_count": 123,
   "metadata": {},
   "outputs": [
    {
     "data": {
      "text/plain": [
       "78416715.89339985"
      ]
     },
     "execution_count": 123,
     "metadata": {},
     "output_type": "execute_result"
    }
   ],
   "source": [
    "# Calculating mean profits for low budget films\n",
    "df.profits[LowB].mean()"
   ]
  },
  {
   "cell_type": "code",
   "execution_count": 124,
   "metadata": {},
   "outputs": [
    {
     "data": {
      "text/plain": [
       "379951220.73935145"
      ]
     },
     "execution_count": 124,
     "metadata": {},
     "output_type": "execute_result"
    }
   ],
   "source": [
    "# Calculating mean profits for medium budget films\n",
    "df.profits[MediumB].mean()"
   ]
  },
  {
   "cell_type": "code",
   "execution_count": 125,
   "metadata": {},
   "outputs": [
    {
     "data": {
      "text/plain": [
       "258564134.329813"
      ]
     },
     "execution_count": 125,
     "metadata": {},
     "output_type": "execute_result"
    }
   ],
   "source": [
    "# Calculating mean profits for high budget films\n",
    "df.profits[HighB].mean()"
   ]
  },
  {
   "cell_type": "code",
   "execution_count": 126,
   "metadata": {},
   "outputs": [
    {
     "data": {
      "image/png": "[encoded data removed]",
      "text/plain": [
       "<Figure size 432x288 with 1 Axes>"
      ]
     },
     "metadata": {
      "needs_background": "light"
     },
     "output_type": "display_data"
    }
   ],
   "source": [
    "#histograms for the above computation\n",
    "\n",
    "df.profits[LowB].hist(alpha=0.5, bins=20, label='Low')\n",
    "df.profits[MediumB].hist(alpha=0.5,bins=20, label='Medium')\n",
    "df.profits[HighB].hist(alpha=0.5, bins=20, label='High')\n",
    "plt.title('Number of Movies in Budget Type vs Profits')\n",
    "plt.xlabel('Vote Average')\n",
    "plt.ylabel('Number of Movies')\n",
    "plt.legend();"
   ]
  },
  {
   "cell_type": "markdown",
   "metadata": {},
   "source": [
    ">**Answer**: Medium-budget films\n",
    "\n",
    ">**Insight**: The analysis above shows the meduim-budget movies made the most mean profits followed by the high-budget movies while the low-budget movies made the lowest mean profits.\n",
    "\n",
    ">**Note**: Clearly, the category with the most movies(Low-budget), does not make the biggest average profit. Neither does the one with high-budget films.\n",
    "\n",
    "Now let's explore its corelations with vote counts, movie popularity and average votes to possibly see why"
   ]
  },
  {
   "cell_type": "markdown",
   "metadata": {},
   "source": [
    "### Vote Counts\n",
    "\n",
    "Let's look at how the vote counts relate to medium budget films having the highest profits"
   ]
  },
  {
   "cell_type": "code",
   "execution_count": 127,
   "metadata": {},
   "outputs": [
    {
     "data": {
      "text/plain": [
       "budget_type\n",
       "Low        443.577584\n",
       "Medium    2200.604396\n",
       "High      1678.500000\n",
       "Name: vote_count, dtype: float64"
      ]
     },
     "execution_count": 127,
     "metadata": {},
     "output_type": "execute_result"
    }
   ],
   "source": [
    "# Calculating average vote counts in each budget_type\n",
    "\n",
    "df.groupby('budget_type')['vote_count'].mean()"
   ]
  },
  {
   "cell_type": "markdown",
   "metadata": {},
   "source": []
  },
  {
   "cell_type": "code",
   "execution_count": 128,
   "metadata": {},
   "outputs": [
    {
     "data": {
      "image/png": "[encoded data removed]",
      "text/plain": [
       "<Figure size 432x288 with 1 Axes>"
      ]
     },
     "metadata": {
      "needs_background": "light"
     },
     "output_type": "display_data"
    }
   ],
   "source": [
    "#plotting budget type against the mean vote counts\n",
    "\n",
    "btype_means =df.groupby('budget_type').vote_count.mean()\n",
    "btype_means.plot(kind='bar', title='Total Vote Counts by Budget Type', alpha=.7);\n",
    "plt.xlabel('Budget Type', fontsize=18)\n",
    "plt.ylabel('Vote Counts', fontsize=18);"
   ]
  },
  {
   "cell_type": "code",
   "execution_count": 129,
   "metadata": {},
   "outputs": [
    {
     "data": {
      "image/png": "[encoded data removed]",
      "text/plain": [
       "<Figure size 432x288 with 1 Axes>"
      ]
     },
     "metadata": {
      "needs_background": "light"
     },
     "output_type": "display_data"
    }
   ],
   "source": [
    "# plotting histogram for budget type against the mean vote counts\n",
    "\n",
    "df.vote_count[LowB].hist(alpha=0.5, bins=20, label='Low')\n",
    "df.vote_count[MediumB].hist(alpha=0.5,bins=20, label='Medium')\n",
    "df.vote_count[HighB].hist(alpha=0.5, bins=20, label='High')\n",
    "plt.title('Number of Movies in Budget Type vs Vote Counts')\n",
    "plt.xlabel('Vote Counts')\n",
    "plt.ylabel('Number of Movies')\n",
    "plt.legend();"
   ]
  },
  {
   "cell_type": "markdown",
   "metadata": {},
   "source": [
    "The above analysis shows average number of votes for medium budget films is highest, followed by high budget films and lastly low budget films.\n",
    "\n",
    "More people voted for medium budget films, this could mean more people watch medium budget films than high and low budget films. It is however important to note that the number of high budget films is staggeringly low.\n",
    "\n",
    "Now lets look at popularity"
   ]
  },
  {
   "cell_type": "markdown",
   "metadata": {},
   "source": [
    "### Movie Popularity\n",
    "\n",
    "Let's look at whether the movie popularity relates to medium budget films having the highest profits\n",
    "\n",
    "We first look mean popularity for each budget category and then we plot our findings"
   ]
  },
  {
   "cell_type": "code",
   "execution_count": 130,
   "metadata": {},
   "outputs": [
    {
     "data": {
      "text/plain": [
       "budget_type\n",
       "Low       1.087173\n",
       "Medium    3.259945\n",
       "High      3.032098\n",
       "Name: popularity, dtype: float64"
      ]
     },
     "execution_count": 130,
     "metadata": {},
     "output_type": "execute_result"
    }
   ],
   "source": [
    "# Calculating at populairty in each budget_type\n",
    "\n",
    "df.groupby('budget_type')['popularity'].mean()"
   ]
  },
  {
   "cell_type": "code",
   "execution_count": 131,
   "metadata": {},
   "outputs": [
    {
     "data": {
      "image/png": "[encoded data removed]",
      "text/plain": [
       "<Figure size 432x288 with 1 Axes>"
      ]
     },
     "metadata": {
      "needs_background": "light"
     },
     "output_type": "display_data"
    }
   ],
   "source": [
    "# plotting budget type against the mean movie popularity\n",
    "\n",
    "btype_means =df.groupby('budget_type').popularity.mean()\n",
    "btype_means.plot(kind='bar', title='Movie popularity by Budget Type', alpha=.7);\n",
    "plt.xlabel('Budget Type', fontsize=18)\n",
    "plt.ylabel('Popularity', fontsize=18);"
   ]
  },
  {
   "cell_type": "code",
   "execution_count": 132,
   "metadata": {},
   "outputs": [
    {
     "data": {
      "image/png": "[encoded data removed]",
      "text/plain": [
       "<Figure size 432x288 with 1 Axes>"
      ]
     },
     "metadata": {
      "needs_background": "light"
     },
     "output_type": "display_data"
    }
   ],
   "source": [
    "# plotting histogram for budget type against the mean movie popularity\n",
    "\n",
    "df.popularity[LowB].hist(alpha=0.5, bins=20, label='Low')\n",
    "df.popularity[MediumB].hist(alpha=0.5,bins=20, label='Medium')\n",
    "df.popularity[HighB].hist(alpha=0.5, bins=20, label='High')\n",
    "plt.title('Number of Movies in Budget Type vs Movie Popularity')\n",
    "plt.xlabel('Movie Popularity')\n",
    "plt.ylabel('Number of Movies')\n",
    "plt.legend();"
   ]
  },
  {
   "cell_type": "markdown",
   "metadata": {},
   "source": [
    "\n",
    "The visualizations above show that medium budget films are the most popular, followed by high then low budget films. This shows a positive relation between vote count and popularity\n",
    "\n",
    "Now lets look at vote average"
   ]
  },
  {
   "cell_type": "markdown",
   "metadata": {},
   "source": [
    "### Vote Average\n",
    "\n",
    "Let's look at whether the average votes relates to medium budget films having the highest profits\n",
    "\n",
    "We first look means for each budget category and then we plot our findings"
   ]
  },
  {
   "cell_type": "code",
   "execution_count": 133,
   "metadata": {},
   "outputs": [
    {
     "data": {
      "text/plain": [
       "budget_type\n",
       "Low       6.157704\n",
       "Medium    6.380220\n",
       "High      6.200000\n",
       "Name: vote_average, dtype: float64"
      ]
     },
     "execution_count": 133,
     "metadata": {},
     "output_type": "execute_result"
    }
   ],
   "source": [
    "# Calculating mean average votes in each budget_type\n",
    "\n",
    "df.groupby('budget_type')['vote_average'].mean()"
   ]
  },
  {
   "cell_type": "code",
   "execution_count": 134,
   "metadata": {},
   "outputs": [
    {
     "data": {
      "image/png": "[encoded data removed]",
      "text/plain": [
       "<Figure size 432x288 with 1 Axes>"
      ]
     },
     "metadata": {
      "needs_background": "light"
     },
     "output_type": "display_data"
    }
   ],
   "source": [
    "# plotting budget type against the mean vote average\n",
    "\n",
    "labels = ['Low', 'Medium', 'High']\n",
    "btype_means =df.groupby('budget_type').vote_average.mean()\n",
    "btype_means.plot(kind='bar', title='Average votes by Budget Type', alpha=.7);\n",
    "plt.xlabel('Budget Type', fontsize=18) \n",
    "plt.ylabel('Average Votes', fontsize=18)\n",
    "plt.show();"
   ]
  },
  {
   "cell_type": "code",
   "execution_count": 135,
   "metadata": {},
   "outputs": [
    {
     "data": {
      "image/png": "[encoded data removed]",
      "text/plain": [
       "<Figure size 432x288 with 1 Axes>"
      ]
     },
     "metadata": {
      "needs_background": "light"
     },
     "output_type": "display_data"
    }
   ],
   "source": [
    "# plotting histogram for budget type against the mean vote average\n",
    "\n",
    "df.vote_average[LowB].hist(alpha=0.5, bins=20, label='Low')\n",
    "df.vote_average[MediumB].hist(alpha=0.5,bins=20, label='Medium')\n",
    "df.vote_average[HighB].hist(alpha=0.5, bins=20, label='High')\n",
    "plt.title('Number of Movies in Budget Type vs Vote Average')\n",
    "plt.xlabel('Vote Average')\n",
    "plt.ylabel('Number of Movies')\n",
    "plt.legend();"
   ]
  },
  {
   "cell_type": "markdown",
   "metadata": {},
   "source": [
    "The analysis and visualizations above show the mean in average votes for the medium-budget movies to be the highest, followed by the high-budget movies and lastly the low-budget movies\n",
    "\n",
    ">**Note**: This is a trend with all budget categories against these variables (profits, vote counts, popularity and average votes). \n",
    "Medium-budget movies - highest\n",
    "High-budget movies - mid\n",
    "Low-budget movies - lowest"
   ]
  },
  {
   "cell_type": "markdown",
   "metadata": {},
   "source": [
    " ### Question 2 : Which director has the most movies between 2010 and 2015? How do they compare to the perfomance of director with the most movies in the dataset ?\n",
    " \n",
    " >**Note**: The comparison will be within the years 2010 and 2015. We will look at the director with the most movies in the dataset and compare them to the director with the most movies between the years 2010 and 2015. We will look at how these directors perfom in those years, the number of movies they make, the mean profits, mean vote counts, popularity and average votes for their movies in those years\n",
    " \n",
    " 1. First, lets find the director with the most movies overall.\n",
    " 2. Then we will filter our dataframe between two dates ( 1st January-2010 and 1st January-2015)\n",
    " 3. Find the director who produced the most movies between those dates\n",
    " 4. Then answer our question and explore their relations"
   ]
  },
  {
   "cell_type": "code",
   "execution_count": 136,
   "metadata": {},
   "outputs": [
    {
     "data": {
      "text/plain": [
       "0    Steven Spielberg\n",
       "dtype: object"
      ]
     },
     "execution_count": 136,
     "metadata": {},
     "output_type": "execute_result"
    }
   ],
   "source": [
    "# Findig director with the most movies\n",
    "\n",
    "df['director'].mode()"
   ]
  },
  {
   "cell_type": "markdown",
   "metadata": {},
   "source": [
    "The director with the most movies in the dataframe is **Steven Spielberg**\n",
    "\n",
    "Below,we create a new dataframe which will hold the data filtered by release_data.\n",
    "\n",
    "We call this dataframe **df_dir** (director's dataframe)"
   ]
  },
  {
   "cell_type": "code",
   "execution_count": 137,
   "metadata": {
    "scrolled": true
   },
   "outputs": [
    {
     "data": {
      "text/html": [
       "<div>\n",
       "<style scoped>\n",
       "    .dataframe tbody tr th:only-of-type {\n",
       "        vertical-align: middle;\n",
       "    }\n",
       "\n",
       "    .dataframe tbody tr th {\n",
       "        vertical-align: top;\n",
       "    }\n",
       "\n",
       "    .dataframe thead th {\n",
       "        text-align: right;\n",
       "    }\n",
       "</style>\n",
       "<table border=\"1\" class=\"dataframe\">\n",
       "  <thead>\n",
       "    <tr style=\"text-align: right;\">\n",
       "      <th></th>\n",
       "      <th>popularity</th>\n",
       "      <th>original_title</th>\n",
       "      <th>director</th>\n",
       "      <th>runtime</th>\n",
       "      <th>genres</th>\n",
       "      <th>release_date</th>\n",
       "      <th>vote_count</th>\n",
       "      <th>vote_average</th>\n",
       "      <th>release_year</th>\n",
       "      <th>budget_adj</th>\n",
       "      <th>revenue_adj</th>\n",
       "      <th>profits</th>\n",
       "      <th>budget_type</th>\n",
       "      <th>rating</th>\n",
       "    </tr>\n",
       "  </thead>\n",
       "  <tbody>\n",
       "    <tr>\n",
       "      <th>629</th>\n",
       "      <td>24.949134</td>\n",
       "      <td>Interstellar</td>\n",
       "      <td>Christopher Nolan</td>\n",
       "      <td>169</td>\n",
       "      <td>Adventure|Drama|Science Fiction</td>\n",
       "      <td>2014-11-05</td>\n",
       "      <td>6498</td>\n",
       "      <td>8.0</td>\n",
       "      <td>1970-01-01 00:00:00.000002014</td>\n",
       "      <td>1.519800e+08</td>\n",
       "      <td>5.726906e+08</td>\n",
       "      <td>4.207106e+08</td>\n",
       "      <td>Medium</td>\n",
       "      <td>Great</td>\n",
       "    </tr>\n",
       "    <tr>\n",
       "      <th>630</th>\n",
       "      <td>14.311205</td>\n",
       "      <td>Guardians of the Galaxy</td>\n",
       "      <td>James Gunn</td>\n",
       "      <td>121</td>\n",
       "      <td>Action|Science Fiction|Adventure</td>\n",
       "      <td>2014-07-30</td>\n",
       "      <td>5612</td>\n",
       "      <td>7.9</td>\n",
       "      <td>1970-01-01 00:00:00.000002014</td>\n",
       "      <td>1.565855e+08</td>\n",
       "      <td>7.122911e+08</td>\n",
       "      <td>5.557057e+08</td>\n",
       "      <td>Medium</td>\n",
       "      <td>Great</td>\n",
       "    </tr>\n",
       "    <tr>\n",
       "      <th>631</th>\n",
       "      <td>12.971027</td>\n",
       "      <td>Captain America: The Winter Soldier</td>\n",
       "      <td>Joe Russo|Anthony Russo</td>\n",
       "      <td>136</td>\n",
       "      <td>Action|Adventure|Science Fiction</td>\n",
       "      <td>2014-03-20</td>\n",
       "      <td>3848</td>\n",
       "      <td>7.6</td>\n",
       "      <td>1970-01-01 00:00:00.000002014</td>\n",
       "      <td>1.565855e+08</td>\n",
       "      <td>6.583651e+08</td>\n",
       "      <td>5.017796e+08</td>\n",
       "      <td>Medium</td>\n",
       "      <td>Great</td>\n",
       "    </tr>\n",
       "    <tr>\n",
       "      <th>632</th>\n",
       "      <td>11.422751</td>\n",
       "      <td>John Wick</td>\n",
       "      <td>Chad Stahelski|David Leitch</td>\n",
       "      <td>101</td>\n",
       "      <td>Action|Thriller</td>\n",
       "      <td>2014-10-22</td>\n",
       "      <td>2712</td>\n",
       "      <td>7.0</td>\n",
       "      <td>1970-01-01 00:00:00.000002014</td>\n",
       "      <td>1.842182e+07</td>\n",
       "      <td>7.252661e+07</td>\n",
       "      <td>5.410479e+07</td>\n",
       "      <td>Low</td>\n",
       "      <td>Great</td>\n",
       "    </tr>\n",
       "    <tr>\n",
       "      <th>633</th>\n",
       "      <td>10.739009</td>\n",
       "      <td>The Hunger Games: Mockingjay - Part 1</td>\n",
       "      <td>Francis Lawrence</td>\n",
       "      <td>123</td>\n",
       "      <td>Science Fiction|Adventure|Thriller</td>\n",
       "      <td>2014-11-18</td>\n",
       "      <td>3590</td>\n",
       "      <td>6.6</td>\n",
       "      <td>1970-01-01 00:00:00.000002014</td>\n",
       "      <td>1.151364e+08</td>\n",
       "      <td>6.927528e+08</td>\n",
       "      <td>5.776164e+08</td>\n",
       "      <td>Low</td>\n",
       "      <td>Great</td>\n",
       "    </tr>\n",
       "    <tr>\n",
       "      <th>...</th>\n",
       "      <td>...</td>\n",
       "      <td>...</td>\n",
       "      <td>...</td>\n",
       "      <td>...</td>\n",
       "      <td>...</td>\n",
       "      <td>...</td>\n",
       "      <td>...</td>\n",
       "      <td>...</td>\n",
       "      <td>...</td>\n",
       "      <td>...</td>\n",
       "      <td>...</td>\n",
       "      <td>...</td>\n",
       "      <td>...</td>\n",
       "      <td>...</td>\n",
       "    </tr>\n",
       "    <tr>\n",
       "      <th>5908</th>\n",
       "      <td>0.171647</td>\n",
       "      <td>On the Job</td>\n",
       "      <td>Erik Matti</td>\n",
       "      <td>120</td>\n",
       "      <td>Action|Crime</td>\n",
       "      <td>2013-05-23</td>\n",
       "      <td>23</td>\n",
       "      <td>5.9</td>\n",
       "      <td>1970-01-01 00:00:00.000002013</td>\n",
       "      <td>9.854119e+05</td>\n",
       "      <td>4.362739e+05</td>\n",
       "      <td>-5.491380e+05</td>\n",
       "      <td>Low</td>\n",
       "      <td>Good</td>\n",
       "    </tr>\n",
       "    <tr>\n",
       "      <th>5932</th>\n",
       "      <td>0.411515</td>\n",
       "      <td>Nothing Left to Fear</td>\n",
       "      <td>Anthony Leonardi III</td>\n",
       "      <td>100</td>\n",
       "      <td>Horror</td>\n",
       "      <td>2013-09-26</td>\n",
       "      <td>39</td>\n",
       "      <td>4.6</td>\n",
       "      <td>1970-01-01 00:00:00.000002013</td>\n",
       "      <td>2.808100e+06</td>\n",
       "      <td>1.568212e+06</td>\n",
       "      <td>-1.239888e+06</td>\n",
       "      <td>Low</td>\n",
       "      <td>Good</td>\n",
       "    </tr>\n",
       "    <tr>\n",
       "      <th>6010</th>\n",
       "      <td>0.075867</td>\n",
       "      <td>Home Run</td>\n",
       "      <td>David Boyd</td>\n",
       "      <td>114</td>\n",
       "      <td>Drama</td>\n",
       "      <td>2013-04-19</td>\n",
       "      <td>19</td>\n",
       "      <td>6.5</td>\n",
       "      <td>1970-01-01 00:00:00.000002013</td>\n",
       "      <td>1.123240e+06</td>\n",
       "      <td>2.678010e+06</td>\n",
       "      <td>1.554770e+06</td>\n",
       "      <td>Low</td>\n",
       "      <td>Great</td>\n",
       "    </tr>\n",
       "    <tr>\n",
       "      <th>6041</th>\n",
       "      <td>0.040858</td>\n",
       "      <td>The Internship</td>\n",
       "      <td>Shawn Levy</td>\n",
       "      <td>119</td>\n",
       "      <td>Comedy</td>\n",
       "      <td>2013-06-07</td>\n",
       "      <td>1174</td>\n",
       "      <td>6.1</td>\n",
       "      <td>1970-01-01 00:00:00.000002013</td>\n",
       "      <td>5.428993e+07</td>\n",
       "      <td>4.118547e+07</td>\n",
       "      <td>-1.310447e+07</td>\n",
       "      <td>Low</td>\n",
       "      <td>Good</td>\n",
       "    </tr>\n",
       "    <tr>\n",
       "      <th>6065</th>\n",
       "      <td>0.010335</td>\n",
       "      <td>Ð¡Ñ‚Ð°Ð»Ð¸Ð½Ð³Ñ€Ð°Ð´</td>\n",
       "      <td>Fyodor Bondarchuk</td>\n",
       "      <td>131</td>\n",
       "      <td>War|Action</td>\n",
       "      <td>2013-10-09</td>\n",
       "      <td>64</td>\n",
       "      <td>5.5</td>\n",
       "      <td>1970-01-01 00:00:00.000002013</td>\n",
       "      <td>2.808100e+07</td>\n",
       "      <td>6.377150e+07</td>\n",
       "      <td>3.569050e+07</td>\n",
       "      <td>Low</td>\n",
       "      <td>Good</td>\n",
       "    </tr>\n",
       "  </tbody>\n",
       "</table>\n",
       "<p>880 rows × 14 columns</p>\n",
       "</div>"
      ],
      "text/plain": [
       "      popularity                         original_title  \\\n",
       "629    24.949134                           Interstellar   \n",
       "630    14.311205                Guardians of the Galaxy   \n",
       "631    12.971027    Captain America: The Winter Soldier   \n",
       "632    11.422751                              John Wick   \n",
       "633    10.739009  The Hunger Games: Mockingjay - Part 1   \n",
       "...          ...                                    ...   \n",
       "5908    0.171647                             On the Job   \n",
       "5932    0.411515                   Nothing Left to Fear   \n",
       "6010    0.075867                               Home Run   \n",
       "6041    0.040858                         The Internship   \n",
       "6065    0.010335                   Ð¡Ñ‚Ð°Ð»Ð¸Ð½Ð³Ñ€Ð°Ð´   \n",
       "\n",
       "                         director  runtime  \\\n",
       "629             Christopher Nolan      169   \n",
       "630                    James Gunn      121   \n",
       "631       Joe Russo|Anthony Russo      136   \n",
       "632   Chad Stahelski|David Leitch      101   \n",
       "633              Francis Lawrence      123   \n",
       "...                           ...      ...   \n",
       "5908                   Erik Matti      120   \n",
       "5932         Anthony Leonardi III      100   \n",
       "6010                   David Boyd      114   \n",
       "6041                   Shawn Levy      119   \n",
       "6065            Fyodor Bondarchuk      131   \n",
       "\n",
       "                                  genres release_date  vote_count  \\\n",
       "629      Adventure|Drama|Science Fiction   2014-11-05        6498   \n",
       "630     Action|Science Fiction|Adventure   2014-07-30        5612   \n",
       "631     Action|Adventure|Science Fiction   2014-03-20        3848   \n",
       "632                      Action|Thriller   2014-10-22        2712   \n",
       "633   Science Fiction|Adventure|Thriller   2014-11-18        3590   \n",
       "...                                  ...          ...         ...   \n",
       "5908                        Action|Crime   2013-05-23          23   \n",
       "5932                              Horror   2013-09-26          39   \n",
       "6010                               Drama   2013-04-19          19   \n",
       "6041                              Comedy   2013-06-07        1174   \n",
       "6065                          War|Action   2013-10-09          64   \n",
       "\n",
       "      vote_average                  release_year    budget_adj   revenue_adj  \\\n",
       "629            8.0 1970-01-01 00:00:00.000002014  1.519800e+08  5.726906e+08   \n",
       "630            7.9 1970-01-01 00:00:00.000002014  1.565855e+08  7.122911e+08   \n",
       "631            7.6 1970-01-01 00:00:00.000002014  1.565855e+08  6.583651e+08   \n",
       "632            7.0 1970-01-01 00:00:00.000002014  1.842182e+07  7.252661e+07   \n",
       "633            6.6 1970-01-01 00:00:00.000002014  1.151364e+08  6.927528e+08   \n",
       "...            ...                           ...           ...           ...   \n",
       "5908           5.9 1970-01-01 00:00:00.000002013  9.854119e+05  4.362739e+05   \n",
       "5932           4.6 1970-01-01 00:00:00.000002013  2.808100e+06  1.568212e+06   \n",
       "6010           6.5 1970-01-01 00:00:00.000002013  1.123240e+06  2.678010e+06   \n",
       "6041           6.1 1970-01-01 00:00:00.000002013  5.428993e+07  4.118547e+07   \n",
       "6065           5.5 1970-01-01 00:00:00.000002013  2.808100e+07  6.377150e+07   \n",
       "\n",
       "           profits budget_type rating  \n",
       "629   4.207106e+08      Medium  Great  \n",
       "630   5.557057e+08      Medium  Great  \n",
       "631   5.017796e+08      Medium  Great  \n",
       "632   5.410479e+07         Low  Great  \n",
       "633   5.776164e+08         Low  Great  \n",
       "...            ...         ...    ...  \n",
       "5908 -5.491380e+05         Low   Good  \n",
       "5932 -1.239888e+06         Low   Good  \n",
       "6010  1.554770e+06         Low  Great  \n",
       "6041 -1.310447e+07         Low   Good  \n",
       "6065  3.569050e+07         Low   Good  \n",
       "\n",
       "[880 rows x 14 columns]"
      ]
     },
     "execution_count": 137,
     "metadata": {},
     "output_type": "execute_result"
    }
   ],
   "source": [
    "# Filtering data between two dates ( 1st January-2010 and 1st January-2015)\n",
    "\n",
    "df_dir = df.loc[(df['release_date'] >= '2010-01-01')\n",
    "                     & (df['release_date'] < '2015-01-01')]\n",
    "\n",
    "df_dir"
   ]
  },
  {
   "cell_type": "markdown",
   "metadata": {},
   "source": [
    "Now lets find the director with the most movies in the new dataframe"
   ]
  },
  {
   "cell_type": "code",
   "execution_count": 138,
   "metadata": {},
   "outputs": [
    {
     "data": {
      "text/plain": [
       "0           Shawn Levy\n",
       "1    Steven Soderbergh\n",
       "dtype: object"
      ]
     },
     "execution_count": 138,
     "metadata": {},
     "output_type": "execute_result"
    }
   ],
   "source": [
    "# Findig director with the most movies between 2010 and 2015\n",
    "\n",
    "\n",
    "df_dir['director'].mode()"
   ]
  },
  {
   "cell_type": "markdown",
   "metadata": {},
   "source": [
    "   >**Answer**: 1. Shawn Levy and Steven Soderbergh\n",
    " \n",
    "\n",
    ">**Note**: There appears to be two directors(**Shawn Levy** and **Steven Soderbergh**) with an equal number of movies produced betweeen these years.\n",
    "We will therefore use both directors in our analysis to see how they compare to each other as well as the direector **Steven Spielberg**\n",
    "\n",
    "Let's query our dataframe to see how many movies each producer produced in that period and how they rated"
   ]
  },
  {
   "cell_type": "code",
   "execution_count": 139,
   "metadata": {},
   "outputs": [
    {
     "data": {
      "text/plain": [
       "Good     3\n",
       "Great    2\n",
       "Bad      0\n",
       "Name: rating, dtype: int64"
      ]
     },
     "execution_count": 139,
     "metadata": {},
     "output_type": "execute_result"
    }
   ],
   "source": [
    "df_dir.query('director == \"Shawn Levy\"')['rating'].value_counts()"
   ]
  },
  {
   "cell_type": "code",
   "execution_count": 140,
   "metadata": {},
   "outputs": [
    {
     "data": {
      "text/plain": [
       "Good     4\n",
       "Great    1\n",
       "Bad      0\n",
       "Name: rating, dtype: int64"
      ]
     },
     "execution_count": 140,
     "metadata": {},
     "output_type": "execute_result"
    }
   ],
   "source": [
    "df_dir.query('director == \"Steven Soderbergh\"')['rating'].value_counts()"
   ]
  },
  {
   "cell_type": "code",
   "execution_count": 141,
   "metadata": {},
   "outputs": [
    {
     "data": {
      "text/plain": [
       "Great    3\n",
       "Good     0\n",
       "Bad      0\n",
       "Name: rating, dtype: int64"
      ]
     },
     "execution_count": 141,
     "metadata": {},
     "output_type": "execute_result"
    }
   ],
   "source": [
    "df_dir.query('director == \"Steven Spielberg\"')['rating'].value_counts()"
   ]
  },
  {
   "cell_type": "markdown",
   "metadata": {},
   "source": [
    "The queries  above show that both **Shawn Levy** and **Steven Soderbergh** have **5** movies each with the former having produced **3 Great** movies and **2 Good** and the latter having produced **4 Great** movies and **1 Good** as per movie ratings.\n",
    "\n",
    "**Steven Spielberg** on the other hand produced **3 Great** movies"
   ]
  },
  {
   "cell_type": "markdown",
   "metadata": {},
   "source": [
    "### Profits\n",
    "Let's see which of the three directors had the highest mean profits from the movies they made in that period\n",
    "\n",
    ">**Note**: We will fist create  masks for above three directors to make it easier to compute for their averages as well as plot the findings\n",
    "Then we will calculate mean profits for each director's mask \n",
    "Finally, we will plot our findings"
   ]
  },
  {
   "cell_type": "code",
   "execution_count": 142,
   "metadata": {},
   "outputs": [],
   "source": [
    "#creating  masks for the above categories\n",
    "\n",
    "Spielberg = df_dir.director == \"Steven Spielberg\"\n",
    "Levy = df_dir.director == \"Shawn Levy\"\n",
    "Soderbergh = df_dir.director == \"Steven Soderbergh\""
   ]
  },
  {
   "cell_type": "code",
   "execution_count": 143,
   "metadata": {},
   "outputs": [
    {
     "data": {
      "text/plain": [
       "180810465.360194"
      ]
     },
     "execution_count": 143,
     "metadata": {},
     "output_type": "execute_result"
    }
   ],
   "source": [
    "# Calculating mean profits for Spielberg's movies\n",
    "\n",
    "df_dir.profits[Spielberg].mean()"
   ]
  },
  {
   "cell_type": "code",
   "execution_count": 144,
   "metadata": {},
   "outputs": [
    {
     "data": {
      "text/plain": [
       "98461803.5684059"
      ]
     },
     "execution_count": 144,
     "metadata": {},
     "output_type": "execute_result"
    }
   ],
   "source": [
    "# Calculating mean profits for S. Levy's movies\n",
    "\n",
    "df_dir.profits[Levy].mean()"
   ]
  },
  {
   "cell_type": "code",
   "execution_count": 145,
   "metadata": {},
   "outputs": [
    {
     "data": {
      "text/plain": [
       "51896228.47636827"
      ]
     },
     "execution_count": 145,
     "metadata": {},
     "output_type": "execute_result"
    }
   ],
   "source": [
    "# Calculating mean profits for Soderbergh's movies\n",
    "\n",
    "df_dir.profits[Soderbergh].mean()"
   ]
  },
  {
   "cell_type": "markdown",
   "metadata": {},
   "source": [
    "Let's create variables to store each resulting mean for its specific director's mask.\n",
    "\n",
    "These will make it easier to plot our findings"
   ]
  },
  {
   "cell_type": "code",
   "execution_count": 146,
   "metadata": {},
   "outputs": [],
   "source": [
    "# Creating variables to store each mask output \n",
    "\n",
    "spiel =df_dir.profits[Spielberg].mean()\n",
    "lev = df_dir.profits[Levy].mean()\n",
    "sod = df_dir.profits[Soderbergh].mean()"
   ]
  },
  {
   "cell_type": "markdown",
   "metadata": {},
   "source": [
    "Now lets plot our findings"
   ]
  },
  {
   "cell_type": "code",
   "execution_count": 147,
   "metadata": {},
   "outputs": [
    {
     "data": {
      "image/png": "[encoded data removed]",
      "text/plain": [
       "<Figure size 432x288 with 1 Axes>"
      ]
     },
     "metadata": {
      "needs_background": "light"
     },
     "output_type": "display_data"
    }
   ],
   "source": [
    "# plotting directors against the mean profits from their movies\n",
    "\n",
    "locations = [1,2,3]\n",
    "heights = [spiel, lev, sod]\n",
    "labels = ['Spielberg', 'Levy', 'Soderbergh']\n",
    "\n",
    "plt.bar(locations, heights, tick_label=labels)\n",
    "plt.title('Average Profits for movies by directors')\n",
    "plt.xlabel('Directors')\n",
    "plt.ylabel('Mean Profits');"
   ]
  },
  {
   "cell_type": "markdown",
   "metadata": {},
   "source": [
    "The above analysis and visualizations show **Steven Spielberg**'s movies made the most profits between 2010 and 2015, followed by director **Shawn Levy** and finally director **Steven Soderbergh**'s movies making the least profits of the three.\n",
    "\n",
    "Let's now see how each director's movies did in vote counts\n",
    "\n"
   ]
  },
  {
   "cell_type": "markdown",
   "metadata": {},
   "source": [
    "### vote count\n",
    "\n",
    ">**Note**: We look at the average vote count for movies produced by these directors between 2010 and 2015. We will also be using the same mask as in the profits analysis'\n",
    "\n",
    "First, we get the mean vote counts for all votes cast on movies by these directors in the given period."
   ]
  },
  {
   "cell_type": "code",
   "execution_count": 148,
   "metadata": {},
   "outputs": [
    {
     "data": {
      "text/plain": [
       "1017.3333333333334"
      ]
     },
     "execution_count": 148,
     "metadata": {},
     "output_type": "execute_result"
    }
   ],
   "source": [
    "# Calculating mean votes for Spielberg's movies\n",
    "\n",
    "df_dir.vote_count[Spielberg].mean()"
   ]
  },
  {
   "cell_type": "code",
   "execution_count": 149,
   "metadata": {},
   "outputs": [
    {
     "data": {
      "text/plain": [
       "1059.8"
      ]
     },
     "execution_count": 149,
     "metadata": {},
     "output_type": "execute_result"
    }
   ],
   "source": [
    "\n",
    "\n",
    "# calculating mean votes for Levy's movies\n",
    "\n",
    "df_dir.vote_count[Levy].mean()"
   ]
  },
  {
   "cell_type": "code",
   "execution_count": 150,
   "metadata": {},
   "outputs": [
    {
     "data": {
      "text/plain": [
       "610.2"
      ]
     },
     "execution_count": 150,
     "metadata": {},
     "output_type": "execute_result"
    }
   ],
   "source": [
    "# Calculating mean votes for Soderbergh's movies\n",
    "\n",
    "df_dir.vote_count[Soderbergh].mean()"
   ]
  },
  {
   "cell_type": "markdown",
   "metadata": {},
   "source": [
    "Now we create variables to store each resulting mean vote count for its specific director's mask."
   ]
  },
  {
   "cell_type": "code",
   "execution_count": 151,
   "metadata": {},
   "outputs": [],
   "source": [
    "# Creating variables to store each mask output \n",
    "\n",
    "\n",
    "Vspiel=df_dir.vote_count[Spielberg].mean()\n",
    "Vlev =df_dir.vote_count[Levy].mean()\n",
    "Vsod=df_dir.vote_count[Soderbergh].mean()"
   ]
  },
  {
   "cell_type": "markdown",
   "metadata": {},
   "source": [
    "Let's plot our findings"
   ]
  },
  {
   "cell_type": "code",
   "execution_count": 152,
   "metadata": {},
   "outputs": [
    {
     "data": {
      "image/png": "[encoded data removed]",
      "text/plain": [
       "<Figure size 432x288 with 1 Axes>"
      ]
     },
     "metadata": {
      "needs_background": "light"
     },
     "output_type": "display_data"
    }
   ],
   "source": [
    "# plotting directors against the mean vote counts from their movies\n",
    "\n",
    "locations = [1,2,3]\n",
    "heights = [Vspiel, Vlev, Vsod]\n",
    "labels = ['Spileberg', 'Levy', 'Soderbergh']\n",
    "plt.bar(locations, heights, tick_label=labels)\n",
    "plt.title('Mean Vote counts for movies by directors')\n",
    "plt.xlabel('Directors')\n",
    "plt.ylabel('Vote Count');"
   ]
  },
  {
   "cell_type": "markdown",
   "metadata": {},
   "source": [
    "From the above analysis and visualizations, the most votes were cast on **Shawn levy**'s movies followed by **Steven Spielberg**'s movies and the least of the three being **Steven Sodrbergh**'s movies\n",
    "\n",
    "Finally, let's look at which of the three directors movies had the highest, medium and lowest popularity."
   ]
  },
  {
   "cell_type": "markdown",
   "metadata": {},
   "source": [
    "### Popularity \n",
    "\n",
    ">**Note**: Just as in the analyses on profits and vote count, we will first get the mean populrity movies by these directors in the given period. We will use those to plot our finding.\n",
    "\n",
    "We are also using the same mask as in the analyses earlier"
   ]
  },
  {
   "cell_type": "code",
   "execution_count": 153,
   "metadata": {},
   "outputs": [
    {
     "data": {
      "text/plain": [
       "1.7132023333333333"
      ]
     },
     "execution_count": 153,
     "metadata": {},
     "output_type": "execute_result"
    }
   ],
   "source": [
    "# Calculating mean popularity for Spielberg's movies\n",
    "df_dir.popularity[Spielberg].mean()"
   ]
  },
  {
   "cell_type": "code",
   "execution_count": 154,
   "metadata": {},
   "outputs": [
    {
     "data": {
      "text/plain": [
       "2.2958002"
      ]
     },
     "execution_count": 154,
     "metadata": {},
     "output_type": "execute_result"
    }
   ],
   "source": [
    "# calculating mean popularity for Levy's movies\n",
    "df_dir.popularity[Levy].mean()"
   ]
  },
  {
   "cell_type": "code",
   "execution_count": 155,
   "metadata": {
    "scrolled": true
   },
   "outputs": [
    {
     "data": {
      "text/plain": [
       "1.2718896000000002"
      ]
     },
     "execution_count": 155,
     "metadata": {},
     "output_type": "execute_result"
    }
   ],
   "source": [
    "# Calculating mean popularity for Soderbergh's movies\n",
    "df_dir.popularity[Soderbergh].mean()"
   ]
  },
  {
   "cell_type": "markdown",
   "metadata": {},
   "source": [
    "Again, we create variables to store each resulting mean popularity value for its specific director's mask."
   ]
  },
  {
   "cell_type": "code",
   "execution_count": 156,
   "metadata": {},
   "outputs": [],
   "source": [
    "# Creating variables to store each mask output \n",
    "\n",
    "Pspiel=df_dir.popularity[Spielberg].mean()\n",
    "Plev =df_dir.popularity[Levy].mean()\n",
    "Psod=df_dir.popularity[Soderbergh].mean()"
   ]
  },
  {
   "cell_type": "markdown",
   "metadata": {},
   "source": [
    "And finally, we plot our findings"
   ]
  },
  {
   "cell_type": "code",
   "execution_count": 157,
   "metadata": {},
   "outputs": [
    {
     "data": {
      "image/png": "[encoded data removed]",
      "text/plain": [
       "<Figure size 432x288 with 1 Axes>"
      ]
     },
     "metadata": {
      "needs_background": "light"
     },
     "output_type": "display_data"
    }
   ],
   "source": [
    "# plotting directors against the mean popularity from their movies\n",
    "\n",
    "locations = [1,2,3]\n",
    "heights = [Pspiel, Plev, Psod]\n",
    "labels = ['Spileberg', 'Levy', 'Soderbergh']\n",
    "plt.bar(locations, heights, tick_label=labels)\n",
    "plt.title('Average Popularity for movies by directors')\n",
    "plt.xlabel('Directors')\n",
    "plt.ylabel('Average Movie Popularity');"
   ]
  },
  {
   "cell_type": "markdown",
   "metadata": {},
   "source": [
    "The analysis and visualizations above show movies directed by **Shawn Levy** having the highest popularity followed by **Steven Spielberg**'s and those with the least popularity of the three are directed by **Steven Soderbergh**."
   ]
  },
  {
   "cell_type": "markdown",
   "metadata": {},
   "source": [
    ">**Note**: Below are conclusions as per the above analyses."
   ]
  },
  {
   "cell_type": "markdown",
   "metadata": {},
   "source": [
    "<a id='conclusions'></a>\n",
    "## Conclusions\n",
    "\n",
    "Based on the analyses done above, the conclusions for the two questions are as follows\n",
    "\n",
    "> **1**: Medium-budget movies appeared to have made the highest mean profits, vote counts, popularity and average votes. High-budget films had median means of the three budget categories and Low-budget movies recorded the lowest means in each of the 4 variables. It is important to note that Low-budget movies were so much more compared to Medium-budget movies and High-budget movies which were only four(**4**). \n",
    "It is safe to conclude that there are relations between the four analyzed variables. Higher vote counts means more people watched a movie and voted, this could explain the inverse proportional relation with popularity as well as the average_vote index. More people watching a movie could mean increased popularity which could mean higher ratings. All these factors might explain Medium-budget films having the highest profit index.\n",
    "\n",
    ">**Limitations**: In creating the rating columns and budget-type categories, I used the **cut()** function to define which movies were good, great or bad and which fell in the Low, Medium or High-budget categories. There could have been a better way to define the budget categories as well as rate movies .\n",
    "\n",
    "> **2**: Findings from the second analysis aren't as straight forward as in the first. In this analysis, we see **Steven Spielberg**'s movies in the years 2010 to 2015 having the highest mean profits, median vote count, and median popularity. **Shawn Levy**'s rank in second in mean profits, highest mean vote counts and highest mean popularity while **Steven Soderbergh**'s ranking the least in all three variables.\n",
    "Based on the findings, relations between the vote counts and popularity are just like those in the first analysis. However, the patterns for mean profits in this analysis do not fully correspond to those in the previous analysis.\n",
    "\n",
    "\n"
   ]
  },
  {
   "cell_type": "markdown",
   "metadata": {},
   "source": [
    "<a id='references'></a>\n",
    "## References\n",
    "\n",
    "The following materials and sites were used as references in this analysis:\n",
    "\n",
    "1. Statology.org\n",
    "\n",
    " How to add columns in pandas dataframe\n",
    " \n",
    " How to Perform Data Binning in Python\n",
    " \n",
    " Pandas: How to Drop Rows that Contain a Specific Value\n",
    " \n",
    " How to Drop Rows by Index in Pandas\n",
    " \n",
    "\n",
    "2. Geeksforgeeks.org\n",
    "\n",
    " How to Filter DataFrame Rows Based on the Date in Pandas\n"
   ]
  }
 ],
 "metadata": {
  "kernelspec": {
   "display_name": "Python 3 (ipykernel)",
   "language": "python",
   "name": "python3"
  },
  "language_info": {
   "codemirror_mode": {
    "name": "ipython",
    "version": 3
   },
   "file_extension": ".py",
   "mimetype": "text/x-python",
   "name": "python",
   "nbconvert_exporter": "python",
   "pygments_lexer": "ipython3",
   "version": "3.7.6"
  }
 },
 "nbformat": 4,
 "nbformat_minor": 2
}
